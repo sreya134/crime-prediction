{
  "nbformat": 4,
  "nbformat_minor": 0,
  "metadata": {
    "colab": {
      "provenance": []
    },
    "kernelspec": {
      "name": "python3",
      "display_name": "Python 3"
    },
    "language_info": {
      "name": "python"
    }
  },
  "cells": [
    {
      "cell_type": "code",
      "execution_count": null,
      "metadata": {
        "colab": {
          "base_uri": "https://localhost:8080/"
        },
        "id": "g9IAeqmY6SVo",
        "outputId": "570de596-b13e-471b-9c32-3002d9cef00a"
      },
      "outputs": [
        {
          "output_type": "stream",
          "name": "stdout",
          "text": [
            "Mounted at /content/gdrive\n"
          ]
        }
      ],
      "source": [
        "from google.colab import drive\n",
        "drive.mount('/content/gdrive')\n",
        "import numpy as np\n",
        "import pandas as pd"
      ]
    },
    {
      "cell_type": "code",
      "source": [
        "cdf=pd.read_csv('gdrive/My Drive/crime_clean1_processed.csv')\n",
        "wdf=pd.read_csv('gdrive/My Drive/weather_clean_processed.csv')"
      ],
      "metadata": {
        "id": "8mnnHNNXv12S"
      },
      "execution_count": null,
      "outputs": []
    },
    {
      "cell_type": "code",
      "source": [
        "wdf.info"
      ],
      "metadata": {
        "colab": {
          "base_uri": "https://localhost:8080/"
        },
        "id": "5JY2GwJ-6ZnP",
        "outputId": "3f0c430f-b07b-48d3-d491-b06dc94d1421"
      },
      "execution_count": null,
      "outputs": [
        {
          "output_type": "execute_result",
          "data": {
            "text/plain": [
              "<bound method DataFrame.info of       Unnamed: 0        Date  Wind speed (average for day)  Temp Min  \\\n",
              "0              0  01-01-2010                      1.670833      -0.6   \n",
              "1              1  02-01-2010                      8.816667      -5.6   \n",
              "2              2  03-01-2010                      9.566667      -8.9   \n",
              "3              3  04-01-2010                      6.129167      -5.6   \n",
              "4              4  05-01-2010                      5.529167      -3.9   \n",
              "...          ...         ...                           ...       ...   \n",
              "3647        3647  27-12-2019                      1.375000       5.6   \n",
              "3648        3648  28-12-2019                      1.383333       3.3   \n",
              "3649        3649  29-12-2019                      1.995833       5.6   \n",
              "3650        3650  30-12-2019                      2.837500       8.3   \n",
              "3651        3651  31-12-2019                      3.150000       5.6   \n",
              "\n",
              "      Temp Max  Temp Average  Precip (Sum)  precip_intensity_<lambda>  \\\n",
              "0          6.1      1.791667           4.7                          0   \n",
              "1          0.6     -2.750000           0.0                          0   \n",
              "2         -2.8     -6.345833           0.0                          0   \n",
              "3          1.1     -3.229167           0.0                          0   \n",
              "4          1.7     -1.825000           0.0                          0   \n",
              "...        ...           ...           ...                        ...   \n",
              "3647      14.4      8.475000           0.0                          0   \n",
              "3648      18.3      9.941667           0.0                          0   \n",
              "3649      10.0      7.625000          12.0                          0   \n",
              "3650      16.7     10.966667           9.3                          0   \n",
              "3651      11.7      7.787500           0.0                          0   \n",
              "\n",
              "      cloudcover_<lambda>  tstorm_<lambda>  winter_<lambda>  mist_<lambda>  \\\n",
              "0                     4.0                0                0              1   \n",
              "1                     3.0                0                0              0   \n",
              "2                     1.0                0                0              0   \n",
              "3                     3.0                0                0              0   \n",
              "4                     4.0                0                0              0   \n",
              "...                   ...              ...              ...            ...   \n",
              "3647                  4.0                0                0              0   \n",
              "3648                  3.0                0                0              0   \n",
              "3649                  4.0                0                0              0   \n",
              "3650                  4.0                0                0              0   \n",
              "3651                  4.0                0                0              0   \n",
              "\n",
              "      fog_<lambda>  \n",
              "0                0  \n",
              "1                0  \n",
              "2                0  \n",
              "3                0  \n",
              "4                0  \n",
              "...            ...  \n",
              "3647             0  \n",
              "3648             0  \n",
              "3649             0  \n",
              "3650             0  \n",
              "3651             0  \n",
              "\n",
              "[3652 rows x 13 columns]>"
            ]
          },
          "metadata": {},
          "execution_count": 4
        }
      ]
    },
    {
      "cell_type": "code",
      "source": [
        "cdf.info()"
      ],
      "metadata": {
        "colab": {
          "base_uri": "https://localhost:8080/"
        },
        "id": "mteRqe-m6bOA",
        "outputId": "a8cdae40-ea51-4788-fba7-bfe45049f780"
      },
      "execution_count": null,
      "outputs": [
        {
          "output_type": "stream",
          "name": "stdout",
          "text": [
            "<class 'pandas.core.frame.DataFrame'>\n",
            "RangeIndex: 42978 entries, 0 to 42977\n",
            "Data columns (total 6 columns):\n",
            " #   Column             Non-Null Count  Dtype \n",
            "---  ------             --------------  ----- \n",
            " 0   Unnamed: 0.1       42978 non-null  int64 \n",
            " 1   Unnamed: 0         42978 non-null  int64 \n",
            " 2   Description        42978 non-null  object\n",
            " 3   new_CrimeDateTime  42978 non-null  object\n",
            " 4   District           42978 non-null  object\n",
            " 5   size               42978 non-null  int64 \n",
            "dtypes: int64(3), object(3)\n",
            "memory usage: 2.0+ MB\n"
          ]
        }
      ]
    },
    {
      "cell_type": "code",
      "source": [
        "#Dropping the unnecessary columns\n",
        "cdf2=cdf.drop(columns=['Unnamed: 0'])\n",
        "#Extracting the date from timestamp\n",
        "cdf2['date'] = pd.to_datetime(cdf2['new_CrimeDateTime'], utc=True)"
      ],
      "metadata": {
        "id": "EsXlmghg6cNh"
      },
      "execution_count": null,
      "outputs": []
    },
    {
      "cell_type": "code",
      "source": [
        "#code source is Python Data Science Handbook by Jake VanderPlas pg. 401\n",
        "#Identifying holidays in our dataset from 2010 to 2019, to analyze the data and conclude it\n",
        "from pandas.tseries.holiday import USFederalHolidayCalendar\n",
        "cal = USFederalHolidayCalendar()\n",
        "holidays = cal.holidays('2010','2019')"
      ],
      "metadata": {
        "id": "9jAl48y37Ws5"
      },
      "execution_count": null,
      "outputs": []
    },
    {
      "cell_type": "code",
      "source": [
        "# source https://stackoverflow.com/questions/29688899/pandas-checking-if-a-date-is-a-holiday-and-assigning-boolean-value\n",
        "#Assigning boolean value if it's holiday '0', if not its '1'\n",
        "cdf2['holiday'] = cdf2['date'].dt.date.astype('datetime64').isin(holidays)"
      ],
      "metadata": {
        "id": "8nBsbxb27pzt"
      },
      "execution_count": null,
      "outputs": []
    },
    {
      "cell_type": "code",
      "source": [
        "cdf2['day']=cdf2['date'].dt.day_name()"
      ],
      "metadata": {
        "id": "Yg1MmGyH-RK2"
      },
      "execution_count": null,
      "outputs": []
    },
    {
      "cell_type": "code",
      "source": [
        "wdf2=wdf.drop(columns=['Unnamed: 0'])"
      ],
      "metadata": {
        "id": "yPkFGlGD_A6B"
      },
      "execution_count": null,
      "outputs": []
    },
    {
      "cell_type": "code",
      "source": [
        "#Extracting date and separating it into a column\n",
        "wdf2['date'] = pd.to_datetime(wdf2['Date'], utc=True,dayfirst=True)"
      ],
      "metadata": {
        "id": "3YNzUuBn_mjA"
      },
      "execution_count": null,
      "outputs": []
    },
    {
      "cell_type": "code",
      "source": [
        "#Merging the two datasets which are weather and crime datasets\n",
        "mdf=cdf2.merge(right=wdf2,how='left',on='date')"
      ],
      "metadata": {
        "id": "tjgeFSq7_zR3"
      },
      "execution_count": null,
      "outputs": []
    },
    {
      "cell_type": "code",
      "source": [
        "mdf2=mdf.drop(columns=['new_CrimeDateTime',\"Date\",\"District\"])"
      ],
      "metadata": {
        "id": "o0RGn8Ey1Ujm"
      },
      "execution_count": null,
      "outputs": []
    },
    {
      "cell_type": "code",
      "source": [
        "#mdf2['year'] = mdf2['date'].dt.year\n",
        "mdf2['month'] = mdf2['date'].dt.month\n",
        "mdf2['date_num'] = mdf2['date'].dt.day"
      ],
      "metadata": {
        "id": "piEqU7DsRQnZ"
      },
      "execution_count": null,
      "outputs": []
    },
    {
      "cell_type": "code",
      "source": [
        "#https://towardsdatascience.com/cyclical-features-encoding-its-about-time-ce23581845ca\n",
        "#Incorporating cyclic patterns and transformations of the month and day features into the dataset.\n",
        "#These features can potentially capture time-related variations or seasonal effects that might be useful for analysis or predictive modeling tasks.\n",
        "#These calculations to transform the month and date values in mdf2 into normalized representations using cosine and sine functions\n",
        "mdf2['month_norm'] = 2 * np.pi * mdf2['month']/ 12\n",
        "mdf2[\"month_cos\"] = np.cos(mdf2[\"month_norm\"])\n",
        "mdf2[\"month_sin\"] = np.sin(mdf2[\"month_norm\"])\n",
        "mdf2['day_norm'] = 2 * np.pi * mdf2['date_num']/ 30\n",
        "mdf2[\"date_cos\"] = np.cos(mdf2[\"day_norm\"])\n",
        "mdf2[\"date_sin\"] = np.sin(mdf2[\"day_norm\"])"
      ],
      "metadata": {
        "id": "1CEQd3l0BXr7"
      },
      "execution_count": null,
      "outputs": []
    },
    {
      "cell_type": "code",
      "source": [
        "mdf3=mdf2.drop(columns=['month','date_num','month_norm','day_norm'])"
      ],
      "metadata": {
        "id": "cRfKNIdBmfNC"
      },
      "execution_count": null,
      "outputs": []
    },
    {
      "cell_type": "code",
      "source": [
        "#Checking for null values\n",
        "mdf3.isnull().sum()"
      ],
      "metadata": {
        "colab": {
          "base_uri": "https://localhost:8080/"
        },
        "id": "8ZuumE2w-vrt",
        "outputId": "165eabd3-96ab-4a64-f440-773f4b2d70d6"
      },
      "execution_count": null,
      "outputs": [
        {
          "output_type": "execute_result",
          "data": {
            "text/plain": [
              "Unnamed: 0.1                     0\n",
              "Description                      0\n",
              "size                             0\n",
              "date                             0\n",
              "holiday                          0\n",
              "day                              0\n",
              "Wind speed (average for day)     0\n",
              "Temp Min                         0\n",
              "Temp Max                         0\n",
              "Temp Average                     0\n",
              "Precip (Sum)                     0\n",
              "precip_intensity_<lambda>        0\n",
              "cloudcover_<lambda>             13\n",
              "tstorm_<lambda>                  0\n",
              "winter_<lambda>                  0\n",
              "mist_<lambda>                    0\n",
              "fog_<lambda>                     0\n",
              "month_cos                        0\n",
              "month_sin                        0\n",
              "date_cos                         0\n",
              "date_sin                         0\n",
              "dtype: int64"
            ]
          },
          "metadata": {},
          "execution_count": 36
        }
      ]
    },
    {
      "cell_type": "code",
      "source": [
        "mdf4=mdf3.drop('size', axis=1)\n",
        "y=mdf3['size']"
      ],
      "metadata": {
        "id": "tYc9siayj6Sa"
      },
      "execution_count": null,
      "outputs": []
    },
    {
      "cell_type": "code",
      "source": [
        "y.isnull().sum()"
      ],
      "metadata": {
        "colab": {
          "base_uri": "https://localhost:8080/"
        },
        "id": "glUnazthmU2U",
        "outputId": "7b783b6e-8719-4abe-cf3f-aae231fdff06"
      },
      "execution_count": null,
      "outputs": [
        {
          "output_type": "execute_result",
          "data": {
            "text/plain": [
              "0"
            ]
          },
          "metadata": {},
          "execution_count": 43
        }
      ]
    },
    {
      "cell_type": "code",
      "source": [
        "#df.rename(columns={\"A\": \"a\", \"B\": \"c\"}) https://pandas.pydata.org/docs/reference/api/pandas.DataFrame.rename.html\n",
        "mdf4.rename(columns={\"Wind speed (average for day)\":'WindSpAvg','precip_intensity_<lambda>':'PrecipInt','cloudcover_<lambda>':'Cloudcover',\n",
        "                     'tstorm_<lambda>':'tstorm','winter_<lambda>':'winter',\"mist_<lambda>\":\"mist\",'fog_<lambda>':\"fog\"},inplace=True)"
      ],
      "metadata": {
        "id": "rgY1IVpp-w7w"
      },
      "execution_count": null,
      "outputs": []
    },
    {
      "cell_type": "code",
      "source": [
        "# https://www.statology.org/pandas-convert-boolean-to-int/\n",
        "mdf4.holiday = mdf4.holiday.replace({True: 1, False: 0})"
      ],
      "metadata": {
        "id": "H9ZKABhnC03B"
      },
      "execution_count": null,
      "outputs": []
    },
    {
      "cell_type": "code",
      "source": [
        "mdf4.head(3)"
      ],
      "metadata": {
        "colab": {
          "base_uri": "https://localhost:8080/",
          "height": 277
        },
        "id": "jYiCMLnzDtxF",
        "outputId": "081dcdc8-8bb1-4c9b-c773-04917f7836c8"
      },
      "execution_count": null,
      "outputs": [
        {
          "output_type": "execute_result",
          "data": {
            "text/plain": [
              "   Unnamed: 0.1        Description                      date  holiday  \\\n",
              "0             0           BURGLARY 2013-12-25 00:00:00+00:00        1   \n",
              "1             1            LARCENY 2012-08-05 00:00:00+00:00        0   \n",
              "2             2  LARCENY FROM AUTO 2019-11-08 00:00:00+00:00        0   \n",
              "\n",
              "         day  WindSpAvg  Temp Min  Temp Max  Temp Average  Precip (Sum)  \\\n",
              "0  Wednesday   2.466667      -7.8      -0.6     -4.058333           0.0   \n",
              "1     Sunday   3.920833      24.4      35.0     28.520833           0.0   \n",
              "2     Friday   4.720833       2.2      11.1      5.662500           0.6   \n",
              "\n",
              "   PrecipInt  Cloudcover  tstorm  winter  mist  fog  month_cos     month_sin  \\\n",
              "0          0         2.0       0       0     0    0   1.000000 -2.449294e-16   \n",
              "1          0         2.0       0       0     0    0  -0.500000 -8.660254e-01   \n",
              "2          0         2.0       0       0     0    0   0.866025 -5.000000e-01   \n",
              "\n",
              "   date_cos  date_sin  \n",
              "0  0.500000 -0.866025  \n",
              "1  0.500000  0.866025  \n",
              "2 -0.104528  0.994522  "
            ],
            "text/html": [
              "\n",
              "  <div id=\"df-ca705179-97ba-4f62-91f7-92bfa17cae4f\">\n",
              "    <div class=\"colab-df-container\">\n",
              "      <div>\n",
              "<style scoped>\n",
              "    .dataframe tbody tr th:only-of-type {\n",
              "        vertical-align: middle;\n",
              "    }\n",
              "\n",
              "    .dataframe tbody tr th {\n",
              "        vertical-align: top;\n",
              "    }\n",
              "\n",
              "    .dataframe thead th {\n",
              "        text-align: right;\n",
              "    }\n",
              "</style>\n",
              "<table border=\"1\" class=\"dataframe\">\n",
              "  <thead>\n",
              "    <tr style=\"text-align: right;\">\n",
              "      <th></th>\n",
              "      <th>Unnamed: 0.1</th>\n",
              "      <th>Description</th>\n",
              "      <th>date</th>\n",
              "      <th>holiday</th>\n",
              "      <th>day</th>\n",
              "      <th>WindSpAvg</th>\n",
              "      <th>Temp Min</th>\n",
              "      <th>Temp Max</th>\n",
              "      <th>Temp Average</th>\n",
              "      <th>Precip (Sum)</th>\n",
              "      <th>PrecipInt</th>\n",
              "      <th>Cloudcover</th>\n",
              "      <th>tstorm</th>\n",
              "      <th>winter</th>\n",
              "      <th>mist</th>\n",
              "      <th>fog</th>\n",
              "      <th>month_cos</th>\n",
              "      <th>month_sin</th>\n",
              "      <th>date_cos</th>\n",
              "      <th>date_sin</th>\n",
              "    </tr>\n",
              "  </thead>\n",
              "  <tbody>\n",
              "    <tr>\n",
              "      <th>0</th>\n",
              "      <td>0</td>\n",
              "      <td>BURGLARY</td>\n",
              "      <td>2013-12-25 00:00:00+00:00</td>\n",
              "      <td>1</td>\n",
              "      <td>Wednesday</td>\n",
              "      <td>2.466667</td>\n",
              "      <td>-7.8</td>\n",
              "      <td>-0.6</td>\n",
              "      <td>-4.058333</td>\n",
              "      <td>0.0</td>\n",
              "      <td>0</td>\n",
              "      <td>2.0</td>\n",
              "      <td>0</td>\n",
              "      <td>0</td>\n",
              "      <td>0</td>\n",
              "      <td>0</td>\n",
              "      <td>1.000000</td>\n",
              "      <td>-2.449294e-16</td>\n",
              "      <td>0.500000</td>\n",
              "      <td>-0.866025</td>\n",
              "    </tr>\n",
              "    <tr>\n",
              "      <th>1</th>\n",
              "      <td>1</td>\n",
              "      <td>LARCENY</td>\n",
              "      <td>2012-08-05 00:00:00+00:00</td>\n",
              "      <td>0</td>\n",
              "      <td>Sunday</td>\n",
              "      <td>3.920833</td>\n",
              "      <td>24.4</td>\n",
              "      <td>35.0</td>\n",
              "      <td>28.520833</td>\n",
              "      <td>0.0</td>\n",
              "      <td>0</td>\n",
              "      <td>2.0</td>\n",
              "      <td>0</td>\n",
              "      <td>0</td>\n",
              "      <td>0</td>\n",
              "      <td>0</td>\n",
              "      <td>-0.500000</td>\n",
              "      <td>-8.660254e-01</td>\n",
              "      <td>0.500000</td>\n",
              "      <td>0.866025</td>\n",
              "    </tr>\n",
              "    <tr>\n",
              "      <th>2</th>\n",
              "      <td>2</td>\n",
              "      <td>LARCENY FROM AUTO</td>\n",
              "      <td>2019-11-08 00:00:00+00:00</td>\n",
              "      <td>0</td>\n",
              "      <td>Friday</td>\n",
              "      <td>4.720833</td>\n",
              "      <td>2.2</td>\n",
              "      <td>11.1</td>\n",
              "      <td>5.662500</td>\n",
              "      <td>0.6</td>\n",
              "      <td>0</td>\n",
              "      <td>2.0</td>\n",
              "      <td>0</td>\n",
              "      <td>0</td>\n",
              "      <td>0</td>\n",
              "      <td>0</td>\n",
              "      <td>0.866025</td>\n",
              "      <td>-5.000000e-01</td>\n",
              "      <td>-0.104528</td>\n",
              "      <td>0.994522</td>\n",
              "    </tr>\n",
              "  </tbody>\n",
              "</table>\n",
              "</div>\n",
              "      <button class=\"colab-df-convert\" onclick=\"convertToInteractive('df-ca705179-97ba-4f62-91f7-92bfa17cae4f')\"\n",
              "              title=\"Convert this dataframe to an interactive table.\"\n",
              "              style=\"display:none;\">\n",
              "        \n",
              "  <svg xmlns=\"http://www.w3.org/2000/svg\" height=\"24px\"viewBox=\"0 0 24 24\"\n",
              "       width=\"24px\">\n",
              "    <path d=\"M0 0h24v24H0V0z\" fill=\"none\"/>\n",
              "    <path d=\"M18.56 5.44l.94 2.06.94-2.06 2.06-.94-2.06-.94-.94-2.06-.94 2.06-2.06.94zm-11 1L8.5 8.5l.94-2.06 2.06-.94-2.06-.94L8.5 2.5l-.94 2.06-2.06.94zm10 10l.94 2.06.94-2.06 2.06-.94-2.06-.94-.94-2.06-.94 2.06-2.06.94z\"/><path d=\"M17.41 7.96l-1.37-1.37c-.4-.4-.92-.59-1.43-.59-.52 0-1.04.2-1.43.59L10.3 9.45l-7.72 7.72c-.78.78-.78 2.05 0 2.83L4 21.41c.39.39.9.59 1.41.59.51 0 1.02-.2 1.41-.59l7.78-7.78 2.81-2.81c.8-.78.8-2.07 0-2.86zM5.41 20L4 18.59l7.72-7.72 1.47 1.35L5.41 20z\"/>\n",
              "  </svg>\n",
              "      </button>\n",
              "      \n",
              "  <style>\n",
              "    .colab-df-container {\n",
              "      display:flex;\n",
              "      flex-wrap:wrap;\n",
              "      gap: 12px;\n",
              "    }\n",
              "\n",
              "    .colab-df-convert {\n",
              "      background-color: #E8F0FE;\n",
              "      border: none;\n",
              "      border-radius: 50%;\n",
              "      cursor: pointer;\n",
              "      display: none;\n",
              "      fill: #1967D2;\n",
              "      height: 32px;\n",
              "      padding: 0 0 0 0;\n",
              "      width: 32px;\n",
              "    }\n",
              "\n",
              "    .colab-df-convert:hover {\n",
              "      background-color: #E2EBFA;\n",
              "      box-shadow: 0px 1px 2px rgba(60, 64, 67, 0.3), 0px 1px 3px 1px rgba(60, 64, 67, 0.15);\n",
              "      fill: #174EA6;\n",
              "    }\n",
              "\n",
              "    [theme=dark] .colab-df-convert {\n",
              "      background-color: #3B4455;\n",
              "      fill: #D2E3FC;\n",
              "    }\n",
              "\n",
              "    [theme=dark] .colab-df-convert:hover {\n",
              "      background-color: #434B5C;\n",
              "      box-shadow: 0px 1px 3px 1px rgba(0, 0, 0, 0.15);\n",
              "      filter: drop-shadow(0px 1px 2px rgba(0, 0, 0, 0.3));\n",
              "      fill: #FFFFFF;\n",
              "    }\n",
              "  </style>\n",
              "\n",
              "      <script>\n",
              "        const buttonEl =\n",
              "          document.querySelector('#df-ca705179-97ba-4f62-91f7-92bfa17cae4f button.colab-df-convert');\n",
              "        buttonEl.style.display =\n",
              "          google.colab.kernel.accessAllowed ? 'block' : 'none';\n",
              "\n",
              "        async function convertToInteractive(key) {\n",
              "          const element = document.querySelector('#df-ca705179-97ba-4f62-91f7-92bfa17cae4f');\n",
              "          const dataTable =\n",
              "            await google.colab.kernel.invokeFunction('convertToInteractive',\n",
              "                                                     [key], {});\n",
              "          if (!dataTable) return;\n",
              "\n",
              "          const docLinkHtml = 'Like what you see? Visit the ' +\n",
              "            '<a target=\"_blank\" href=https://colab.research.google.com/notebooks/data_table.ipynb>data table notebook</a>'\n",
              "            + ' to learn more about interactive tables.';\n",
              "          element.innerHTML = '';\n",
              "          dataTable['output_type'] = 'display_data';\n",
              "          await google.colab.output.renderOutput(dataTable, element);\n",
              "          const docLink = document.createElement('div');\n",
              "          docLink.innerHTML = docLinkHtml;\n",
              "          element.appendChild(docLink);\n",
              "        }\n",
              "      </script>\n",
              "    </div>\n",
              "  </div>\n",
              "  "
            ]
          },
          "metadata": {},
          "execution_count": 46
        }
      ]
    },
    {
      "cell_type": "code",
      "source": [
        "mdf4.shape"
      ],
      "metadata": {
        "id": "112aO2diDvaf",
        "colab": {
          "base_uri": "https://localhost:8080/"
        },
        "outputId": "5408ae83-05f4-442d-e2b9-2b20a7c2379f"
      },
      "execution_count": null,
      "outputs": [
        {
          "output_type": "execute_result",
          "data": {
            "text/plain": [
              "(42978, 20)"
            ]
          },
          "metadata": {},
          "execution_count": 47
        }
      ]
    },
    {
      "cell_type": "code",
      "source": [
        "mdf4.drop(columns=['date'], inplace=True)"
      ],
      "metadata": {
        "id": "pTPZ6uV1Xy1d"
      },
      "execution_count": null,
      "outputs": []
    },
    {
      "cell_type": "code",
      "source": [
        "mdf4.sort_values(by='PrecipInt',ascending=False).head()"
      ],
      "metadata": {
        "colab": {
          "base_uri": "https://localhost:8080/",
          "height": 339
        },
        "id": "UqJijNW6X_Cj",
        "outputId": "eb26bf37-807e-4c9f-f408-79c3448bde6d"
      },
      "execution_count": null,
      "outputs": [
        {
          "output_type": "execute_result",
          "data": {
            "text/plain": [
              "       Unnamed: 0.1           Description  holiday       day  WindSpAvg  \\\n",
              "14751         18904        COMMON ASSAULT        0    Monday   7.420833   \n",
              "38341         53301                 ARSON        0  Saturday   7.679167   \n",
              "16917         22132  ROBBERY - COMMERCIAL        0  Saturday   7.679167   \n",
              "18620         24403               ROBBERY        0    Monday   7.420833   \n",
              "38343         53303          AGG. ASSAULT        0  Saturday   7.679167   \n",
              "\n",
              "       Temp Min  Temp Max  Temp Average  Precip (Sum)  PrecipInt  Cloudcover  \\\n",
              "14751       8.9      12.2     10.937500         122.0          3         4.0   \n",
              "38341      -6.1      -2.2     -4.233333          49.9          3         5.0   \n",
              "16917      -6.1      -2.2     -4.233333          49.9          3         5.0   \n",
              "18620       8.9      12.2     10.937500         122.0          3         4.0   \n",
              "38343      -6.1      -2.2     -4.233333          49.9          3         5.0   \n",
              "\n",
              "       tstorm  winter  mist  fog  month_cos  month_sin  date_cos  date_sin  \n",
              "14751       0       0     1    0   0.500000  -0.866025  0.978148 -0.207912  \n",
              "38341       0       1     0    0   0.866025   0.500000  0.104528 -0.994522  \n",
              "16917       0       1     0    0   0.866025   0.500000  0.104528 -0.994522  \n",
              "18620       0       0     1    0   0.500000  -0.866025  0.978148 -0.207912  \n",
              "38343       0       1     0    0   0.866025   0.500000  0.104528 -0.994522  "
            ],
            "text/html": [
              "\n",
              "  <div id=\"df-b05c5aaf-bf68-4642-b8fc-b6260fa5c490\">\n",
              "    <div class=\"colab-df-container\">\n",
              "      <div>\n",
              "<style scoped>\n",
              "    .dataframe tbody tr th:only-of-type {\n",
              "        vertical-align: middle;\n",
              "    }\n",
              "\n",
              "    .dataframe tbody tr th {\n",
              "        vertical-align: top;\n",
              "    }\n",
              "\n",
              "    .dataframe thead th {\n",
              "        text-align: right;\n",
              "    }\n",
              "</style>\n",
              "<table border=\"1\" class=\"dataframe\">\n",
              "  <thead>\n",
              "    <tr style=\"text-align: right;\">\n",
              "      <th></th>\n",
              "      <th>Unnamed: 0.1</th>\n",
              "      <th>Description</th>\n",
              "      <th>holiday</th>\n",
              "      <th>day</th>\n",
              "      <th>WindSpAvg</th>\n",
              "      <th>Temp Min</th>\n",
              "      <th>Temp Max</th>\n",
              "      <th>Temp Average</th>\n",
              "      <th>Precip (Sum)</th>\n",
              "      <th>PrecipInt</th>\n",
              "      <th>Cloudcover</th>\n",
              "      <th>tstorm</th>\n",
              "      <th>winter</th>\n",
              "      <th>mist</th>\n",
              "      <th>fog</th>\n",
              "      <th>month_cos</th>\n",
              "      <th>month_sin</th>\n",
              "      <th>date_cos</th>\n",
              "      <th>date_sin</th>\n",
              "    </tr>\n",
              "  </thead>\n",
              "  <tbody>\n",
              "    <tr>\n",
              "      <th>14751</th>\n",
              "      <td>18904</td>\n",
              "      <td>COMMON ASSAULT</td>\n",
              "      <td>0</td>\n",
              "      <td>Monday</td>\n",
              "      <td>7.420833</td>\n",
              "      <td>8.9</td>\n",
              "      <td>12.2</td>\n",
              "      <td>10.937500</td>\n",
              "      <td>122.0</td>\n",
              "      <td>3</td>\n",
              "      <td>4.0</td>\n",
              "      <td>0</td>\n",
              "      <td>0</td>\n",
              "      <td>1</td>\n",
              "      <td>0</td>\n",
              "      <td>0.500000</td>\n",
              "      <td>-0.866025</td>\n",
              "      <td>0.978148</td>\n",
              "      <td>-0.207912</td>\n",
              "    </tr>\n",
              "    <tr>\n",
              "      <th>38341</th>\n",
              "      <td>53301</td>\n",
              "      <td>ARSON</td>\n",
              "      <td>0</td>\n",
              "      <td>Saturday</td>\n",
              "      <td>7.679167</td>\n",
              "      <td>-6.1</td>\n",
              "      <td>-2.2</td>\n",
              "      <td>-4.233333</td>\n",
              "      <td>49.9</td>\n",
              "      <td>3</td>\n",
              "      <td>5.0</td>\n",
              "      <td>0</td>\n",
              "      <td>1</td>\n",
              "      <td>0</td>\n",
              "      <td>0</td>\n",
              "      <td>0.866025</td>\n",
              "      <td>0.500000</td>\n",
              "      <td>0.104528</td>\n",
              "      <td>-0.994522</td>\n",
              "    </tr>\n",
              "    <tr>\n",
              "      <th>16917</th>\n",
              "      <td>22132</td>\n",
              "      <td>ROBBERY - COMMERCIAL</td>\n",
              "      <td>0</td>\n",
              "      <td>Saturday</td>\n",
              "      <td>7.679167</td>\n",
              "      <td>-6.1</td>\n",
              "      <td>-2.2</td>\n",
              "      <td>-4.233333</td>\n",
              "      <td>49.9</td>\n",
              "      <td>3</td>\n",
              "      <td>5.0</td>\n",
              "      <td>0</td>\n",
              "      <td>1</td>\n",
              "      <td>0</td>\n",
              "      <td>0</td>\n",
              "      <td>0.866025</td>\n",
              "      <td>0.500000</td>\n",
              "      <td>0.104528</td>\n",
              "      <td>-0.994522</td>\n",
              "    </tr>\n",
              "    <tr>\n",
              "      <th>18620</th>\n",
              "      <td>24403</td>\n",
              "      <td>ROBBERY</td>\n",
              "      <td>0</td>\n",
              "      <td>Monday</td>\n",
              "      <td>7.420833</td>\n",
              "      <td>8.9</td>\n",
              "      <td>12.2</td>\n",
              "      <td>10.937500</td>\n",
              "      <td>122.0</td>\n",
              "      <td>3</td>\n",
              "      <td>4.0</td>\n",
              "      <td>0</td>\n",
              "      <td>0</td>\n",
              "      <td>1</td>\n",
              "      <td>0</td>\n",
              "      <td>0.500000</td>\n",
              "      <td>-0.866025</td>\n",
              "      <td>0.978148</td>\n",
              "      <td>-0.207912</td>\n",
              "    </tr>\n",
              "    <tr>\n",
              "      <th>38343</th>\n",
              "      <td>53303</td>\n",
              "      <td>AGG. ASSAULT</td>\n",
              "      <td>0</td>\n",
              "      <td>Saturday</td>\n",
              "      <td>7.679167</td>\n",
              "      <td>-6.1</td>\n",
              "      <td>-2.2</td>\n",
              "      <td>-4.233333</td>\n",
              "      <td>49.9</td>\n",
              "      <td>3</td>\n",
              "      <td>5.0</td>\n",
              "      <td>0</td>\n",
              "      <td>1</td>\n",
              "      <td>0</td>\n",
              "      <td>0</td>\n",
              "      <td>0.866025</td>\n",
              "      <td>0.500000</td>\n",
              "      <td>0.104528</td>\n",
              "      <td>-0.994522</td>\n",
              "    </tr>\n",
              "  </tbody>\n",
              "</table>\n",
              "</div>\n",
              "      <button class=\"colab-df-convert\" onclick=\"convertToInteractive('df-b05c5aaf-bf68-4642-b8fc-b6260fa5c490')\"\n",
              "              title=\"Convert this dataframe to an interactive table.\"\n",
              "              style=\"display:none;\">\n",
              "        \n",
              "  <svg xmlns=\"http://www.w3.org/2000/svg\" height=\"24px\"viewBox=\"0 0 24 24\"\n",
              "       width=\"24px\">\n",
              "    <path d=\"M0 0h24v24H0V0z\" fill=\"none\"/>\n",
              "    <path d=\"M18.56 5.44l.94 2.06.94-2.06 2.06-.94-2.06-.94-.94-2.06-.94 2.06-2.06.94zm-11 1L8.5 8.5l.94-2.06 2.06-.94-2.06-.94L8.5 2.5l-.94 2.06-2.06.94zm10 10l.94 2.06.94-2.06 2.06-.94-2.06-.94-.94-2.06-.94 2.06-2.06.94z\"/><path d=\"M17.41 7.96l-1.37-1.37c-.4-.4-.92-.59-1.43-.59-.52 0-1.04.2-1.43.59L10.3 9.45l-7.72 7.72c-.78.78-.78 2.05 0 2.83L4 21.41c.39.39.9.59 1.41.59.51 0 1.02-.2 1.41-.59l7.78-7.78 2.81-2.81c.8-.78.8-2.07 0-2.86zM5.41 20L4 18.59l7.72-7.72 1.47 1.35L5.41 20z\"/>\n",
              "  </svg>\n",
              "      </button>\n",
              "      \n",
              "  <style>\n",
              "    .colab-df-container {\n",
              "      display:flex;\n",
              "      flex-wrap:wrap;\n",
              "      gap: 12px;\n",
              "    }\n",
              "\n",
              "    .colab-df-convert {\n",
              "      background-color: #E8F0FE;\n",
              "      border: none;\n",
              "      border-radius: 50%;\n",
              "      cursor: pointer;\n",
              "      display: none;\n",
              "      fill: #1967D2;\n",
              "      height: 32px;\n",
              "      padding: 0 0 0 0;\n",
              "      width: 32px;\n",
              "    }\n",
              "\n",
              "    .colab-df-convert:hover {\n",
              "      background-color: #E2EBFA;\n",
              "      box-shadow: 0px 1px 2px rgba(60, 64, 67, 0.3), 0px 1px 3px 1px rgba(60, 64, 67, 0.15);\n",
              "      fill: #174EA6;\n",
              "    }\n",
              "\n",
              "    [theme=dark] .colab-df-convert {\n",
              "      background-color: #3B4455;\n",
              "      fill: #D2E3FC;\n",
              "    }\n",
              "\n",
              "    [theme=dark] .colab-df-convert:hover {\n",
              "      background-color: #434B5C;\n",
              "      box-shadow: 0px 1px 3px 1px rgba(0, 0, 0, 0.15);\n",
              "      filter: drop-shadow(0px 1px 2px rgba(0, 0, 0, 0.3));\n",
              "      fill: #FFFFFF;\n",
              "    }\n",
              "  </style>\n",
              "\n",
              "      <script>\n",
              "        const buttonEl =\n",
              "          document.querySelector('#df-b05c5aaf-bf68-4642-b8fc-b6260fa5c490 button.colab-df-convert');\n",
              "        buttonEl.style.display =\n",
              "          google.colab.kernel.accessAllowed ? 'block' : 'none';\n",
              "\n",
              "        async function convertToInteractive(key) {\n",
              "          const element = document.querySelector('#df-b05c5aaf-bf68-4642-b8fc-b6260fa5c490');\n",
              "          const dataTable =\n",
              "            await google.colab.kernel.invokeFunction('convertToInteractive',\n",
              "                                                     [key], {});\n",
              "          if (!dataTable) return;\n",
              "\n",
              "          const docLinkHtml = 'Like what you see? Visit the ' +\n",
              "            '<a target=\"_blank\" href=https://colab.research.google.com/notebooks/data_table.ipynb>data table notebook</a>'\n",
              "            + ' to learn more about interactive tables.';\n",
              "          element.innerHTML = '';\n",
              "          dataTable['output_type'] = 'display_data';\n",
              "          await google.colab.output.renderOutput(dataTable, element);\n",
              "          const docLink = document.createElement('div');\n",
              "          docLink.innerHTML = docLinkHtml;\n",
              "          element.appendChild(docLink);\n",
              "        }\n",
              "      </script>\n",
              "    </div>\n",
              "  </div>\n",
              "  "
            ]
          },
          "metadata": {},
          "execution_count": 49
        }
      ]
    },
    {
      "cell_type": "code",
      "source": [
        "#To handle missing values in the columns by either replacing them with the mean value or the mode of the available data.\n",
        "mdf4['WindSpAvg'].fillna(mdf4['WindSpAvg'].mean(), inplace=True)\n",
        "mdf4['Temp Min'].fillna(mdf4['Temp Min'].mean(), inplace=True)\n",
        "mdf4['Temp Max'].fillna(mdf4['Temp Max'].mean(), inplace=True)\n",
        "mdf4['Temp Average'].fillna(mdf4['Temp Average'].mean(), inplace=True)\n",
        "mdf4['PrecipInt'].fillna(mdf4['PrecipInt'].mode()[0], inplace=True)\n",
        "mdf4['Cloudcover'].fillna(mdf4['Cloudcover'].mode()[0], inplace=True)\n",
        "mdf4['tstorm'].fillna(mdf4['tstorm'].mode()[0], inplace=True)\n",
        "mdf4['winter'].fillna(mdf4['winter'].mode()[0], inplace=True)\n",
        "mdf4['mist'].fillna(mdf4['mist'].mode()[0], inplace=True)\n",
        "mdf4['fog'].fillna(mdf4['fog'].mode()[0], inplace=True)\n",
        "mdf4['Precip (Sum)'].fillna(mdf4['Precip (Sum)'].mean(), inplace=True)\n"
      ],
      "metadata": {
        "id": "zPxTPziUivOc"
      },
      "execution_count": null,
      "outputs": []
    },
    {
      "cell_type": "code",
      "source": [
        "mdf4.isnull().sum()"
      ],
      "metadata": {
        "colab": {
          "base_uri": "https://localhost:8080/"
        },
        "id": "FXR1Hkhplxhh",
        "outputId": "0cf28c82-7b15-47aa-87e8-2323672808ca"
      },
      "execution_count": null,
      "outputs": [
        {
          "output_type": "execute_result",
          "data": {
            "text/plain": [
              "Unnamed: 0.1    0\n",
              "Description     0\n",
              "holiday         0\n",
              "day             0\n",
              "WindSpAvg       0\n",
              "Temp Min        0\n",
              "Temp Max        0\n",
              "Temp Average    0\n",
              "Precip (Sum)    0\n",
              "PrecipInt       0\n",
              "Cloudcover      0\n",
              "tstorm          0\n",
              "winter          0\n",
              "mist            0\n",
              "fog             0\n",
              "month_cos       0\n",
              "month_sin       0\n",
              "date_cos        0\n",
              "date_sin        0\n",
              "dtype: int64"
            ]
          },
          "metadata": {},
          "execution_count": 51
        }
      ]
    },
    {
      "cell_type": "code",
      "source": [
        "#Sub plots to see the skewness of an attribute\n",
        "import matplotlib.pyplot as plt\n",
        "\n",
        "mdf4.hist(bins=12,figsize=(12,12))\n",
        "plt.show()"
      ],
      "metadata": {
        "colab": {
          "base_uri": "https://localhost:8080/",
          "height": 1000
        },
        "id": "oEC-10rwafDN",
        "outputId": "2386542d-bf08-44a2-9281-1adddb5d9399"
      },
      "execution_count": null,
      "outputs": [
        {
          "output_type": "display_data",
          "data": {
            "text/plain": [
              "<Figure size 1200x1200 with 20 Axes>"
            ],
            "image/png": "[encoded data removed]"
          },
          "metadata": {}
        }
      ]
    },
    {
      "cell_type": "code",
      "source": [
        "from sklearn.compose import ColumnTransformer\n",
        "from sklearn.preprocessing import (OneHotEncoder, StandardScaler,\n",
        "                                   FunctionTransformer, MinMaxScaler,RobustScaler,QuantileTransformer)\n",
        "from sklearn.pipeline import Pipeline, make_pipeline"
      ],
      "metadata": {
        "id": "TqdNQ9M90MnX"
      },
      "execution_count": null,
      "outputs": []
    },
    {
      "cell_type": "code",
      "source": [
        "#Applying transformations to specific columns of a dataset\n",
        "preprocessTransformer = ColumnTransformer(\n",
        "    [ ('WindSpeedTransform', RobustScaler(), [\"WindSpAvg\"]),\n",
        "      ('TempTransform', StandardScaler(), [\"Temp Min\",'Temp Max',\"Temp Average\",'month_cos','month_sin','date_cos','date_sin']),\n",
        "     ('precipTransform',make_pipeline(QuantileTransformer(n_quantiles=100, output_distribution='normal'),RobustScaler()),['Precip (Sum)']),\n",
        "     (\"OneHotTransform\",OneHotEncoder(),[\"Description\",'day','PrecipInt','Cloudcover']),\n",
        "     ('weatherTransform', 'passthrough', ['holiday',\"tstorm\",'winter','mist','fog'])])"
      ],
      "metadata": {
        "id": "4l5qBHn4Xtwn"
      },
      "execution_count": null,
      "outputs": []
    },
    {
      "cell_type": "code",
      "source": [
        "#Undergoing the preprocessing resulting transformed data is assigned to the variable X\n",
        "p = Pipeline([('preprocess', preprocessTransformer)])\n",
        "\n",
        "X = p.fit_transform(mdf4)"
      ],
      "metadata": {
        "id": "N_WbDQfVkU6l"
      },
      "execution_count": null,
      "outputs": []
    },
    {
      "cell_type": "code",
      "source": [
        "pd.DataFrame(X).sort_values(by=35)"
      ],
      "metadata": {
        "colab": {
          "base_uri": "https://localhost:8080/",
          "height": 423
        },
        "id": "8X3F2wIUkZYa",
        "outputId": "a7fe07da-bb02-488b-d798-e493fb84c0fd"
      },
      "execution_count": null,
      "outputs": [
        {
          "output_type": "execute_result",
          "data": {
            "text/plain": [
              "             0         1         2         3         4         5         6   \\\n",
              "21488  3.894009 -2.134268 -2.449202 -2.335088  1.225861  0.718028 -0.458225   \n",
              "27383 -0.320276  1.189961  0.861636  0.997552  0.709002 -1.216845 -0.171050   \n",
              "27384  0.359447  1.011690  0.802160  0.980724  0.709002 -1.216845  0.122541   \n",
              "27385  0.359447  1.011690  0.802160  0.980724  0.709002 -1.216845  0.122541   \n",
              "27386  0.359447  1.011690  0.802160  0.980724  0.709002 -1.216845  0.122541   \n",
              "...         ...       ...       ...       ...       ...       ...       ...   \n",
              "23528 -0.170507  1.766719  1.902469  1.891117 -1.219943 -0.698398  0.122541   \n",
              "4743  -0.237327  1.305312  1.297795  1.325034 -0.703084 -1.216845 -0.171050   \n",
              "27204 -0.188940 -1.379238 -0.129633 -0.777066  0.709002  1.236476  1.111895   \n",
              "27203 -0.188940 -1.379238 -0.129633 -0.777066  0.709002  1.236476  1.111895   \n",
              "0     -0.020737 -1.788213 -1.953567 -1.856593  1.415045  0.009815  0.677925   \n",
              "\n",
              "             7         8    9   ...   34   35   36   37   38   39   40   41  \\\n",
              "21488 -1.362656  0.000000  0.0  ...  1.0  0.0  0.0  0.0  0.0  0.0  0.0  0.0   \n",
              "27383  1.409310  0.000000  0.0  ...  0.0  0.0  1.0  0.0  0.0  1.0  0.0  0.0   \n",
              "27384  1.409310  0.000000  0.0  ...  0.0  0.0  1.0  0.0  0.0  0.0  0.0  0.0   \n",
              "27385  1.409310  0.000000  0.0  ...  0.0  0.0  1.0  0.0  0.0  0.0  0.0  0.0   \n",
              "27386  1.409310  0.000000  0.0  ...  0.0  0.0  1.0  0.0  0.0  0.0  0.0  0.0   \n",
              "...         ...       ...  ...  ...  ...  ...  ...  ...  ...  ...  ...  ...   \n",
              "23528 -1.424584  1.001785  0.0  ...  0.0  1.0  0.0  0.0  0.0  0.0  0.0  0.0   \n",
              "4743   1.409310  0.000000  0.0  ...  0.0  1.0  0.0  0.0  0.0  0.0  0.0  0.0   \n",
              "27204 -0.845085  0.000000  0.0  ...  0.0  1.0  0.0  0.0  0.0  0.0  0.0  0.0   \n",
              "27203 -0.845085  0.000000  0.0  ...  0.0  1.0  0.0  0.0  0.0  0.0  0.0  0.0   \n",
              "0     -1.241508  0.000000  0.0  ...  0.0  1.0  0.0  0.0  0.0  1.0  0.0  0.0   \n",
              "\n",
              "        42   43  \n",
              "21488  0.0  0.0  \n",
              "27383  0.0  0.0  \n",
              "27384  0.0  0.0  \n",
              "27385  0.0  0.0  \n",
              "27386  0.0  0.0  \n",
              "...    ...  ...  \n",
              "23528  0.0  0.0  \n",
              "4743   0.0  0.0  \n",
              "27204  0.0  0.0  \n",
              "27203  0.0  0.0  \n",
              "0      0.0  0.0  \n",
              "\n",
              "[42978 rows x 44 columns]"
            ],
            "text/html": [
              "\n",
              "  <div id=\"df-efc3331d-3c0b-4b0b-aa0c-de0080aff625\">\n",
              "    <div class=\"colab-df-container\">\n",
              "      <div>\n",
              "<style scoped>\n",
              "    .dataframe tbody tr th:only-of-type {\n",
              "        vertical-align: middle;\n",
              "    }\n",
              "\n",
              "    .dataframe tbody tr th {\n",
              "        vertical-align: top;\n",
              "    }\n",
              "\n",
              "    .dataframe thead th {\n",
              "        text-align: right;\n",
              "    }\n",
              "</style>\n",
              "<table border=\"1\" class=\"dataframe\">\n",
              "  <thead>\n",
              "    <tr style=\"text-align: right;\">\n",
              "      <th></th>\n",
              "      <th>0</th>\n",
              "      <th>1</th>\n",
              "      <th>2</th>\n",
              "      <th>3</th>\n",
              "      <th>4</th>\n",
              "      <th>5</th>\n",
              "      <th>6</th>\n",
              "      <th>7</th>\n",
              "      <th>8</th>\n",
              "      <th>9</th>\n",
              "      <th>...</th>\n",
              "      <th>34</th>\n",
              "      <th>35</th>\n",
              "      <th>36</th>\n",
              "      <th>37</th>\n",
              "      <th>38</th>\n",
              "      <th>39</th>\n",
              "      <th>40</th>\n",
              "      <th>41</th>\n",
              "      <th>42</th>\n",
              "      <th>43</th>\n",
              "    </tr>\n",
              "  </thead>\n",
              "  <tbody>\n",
              "    <tr>\n",
              "      <th>21488</th>\n",
              "      <td>3.894009</td>\n",
              "      <td>-2.134268</td>\n",
              "      <td>-2.449202</td>\n",
              "      <td>-2.335088</td>\n",
              "      <td>1.225861</td>\n",
              "      <td>0.718028</td>\n",
              "      <td>-0.458225</td>\n",
              "      <td>-1.362656</td>\n",
              "      <td>0.000000</td>\n",
              "      <td>0.0</td>\n",
              "      <td>...</td>\n",
              "      <td>1.0</td>\n",
              "      <td>0.0</td>\n",
              "      <td>0.0</td>\n",
              "      <td>0.0</td>\n",
              "      <td>0.0</td>\n",
              "      <td>0.0</td>\n",
              "      <td>0.0</td>\n",
              "      <td>0.0</td>\n",
              "      <td>0.0</td>\n",
              "      <td>0.0</td>\n",
              "    </tr>\n",
              "    <tr>\n",
              "      <th>27383</th>\n",
              "      <td>-0.320276</td>\n",
              "      <td>1.189961</td>\n",
              "      <td>0.861636</td>\n",
              "      <td>0.997552</td>\n",
              "      <td>0.709002</td>\n",
              "      <td>-1.216845</td>\n",
              "      <td>-0.171050</td>\n",
              "      <td>1.409310</td>\n",
              "      <td>0.000000</td>\n",
              "      <td>0.0</td>\n",
              "      <td>...</td>\n",
              "      <td>0.0</td>\n",
              "      <td>0.0</td>\n",
              "      <td>1.0</td>\n",
              "      <td>0.0</td>\n",
              "      <td>0.0</td>\n",
              "      <td>1.0</td>\n",
              "      <td>0.0</td>\n",
              "      <td>0.0</td>\n",
              "      <td>0.0</td>\n",
              "      <td>0.0</td>\n",
              "    </tr>\n",
              "    <tr>\n",
              "      <th>27384</th>\n",
              "      <td>0.359447</td>\n",
              "      <td>1.011690</td>\n",
              "      <td>0.802160</td>\n",
              "      <td>0.980724</td>\n",
              "      <td>0.709002</td>\n",
              "      <td>-1.216845</td>\n",
              "      <td>0.122541</td>\n",
              "      <td>1.409310</td>\n",
              "      <td>0.000000</td>\n",
              "      <td>0.0</td>\n",
              "      <td>...</td>\n",
              "      <td>0.0</td>\n",
              "      <td>0.0</td>\n",
              "      <td>1.0</td>\n",
              "      <td>0.0</td>\n",
              "      <td>0.0</td>\n",
              "      <td>0.0</td>\n",
              "      <td>0.0</td>\n",
              "      <td>0.0</td>\n",
              "      <td>0.0</td>\n",
              "      <td>0.0</td>\n",
              "    </tr>\n",
              "    <tr>\n",
              "      <th>27385</th>\n",
              "      <td>0.359447</td>\n",
              "      <td>1.011690</td>\n",
              "      <td>0.802160</td>\n",
              "      <td>0.980724</td>\n",
              "      <td>0.709002</td>\n",
              "      <td>-1.216845</td>\n",
              "      <td>0.122541</td>\n",
              "      <td>1.409310</td>\n",
              "      <td>0.000000</td>\n",
              "      <td>0.0</td>\n",
              "      <td>...</td>\n",
              "      <td>0.0</td>\n",
              "      <td>0.0</td>\n",
              "      <td>1.0</td>\n",
              "      <td>0.0</td>\n",
              "      <td>0.0</td>\n",
              "      <td>0.0</td>\n",
              "      <td>0.0</td>\n",
              "      <td>0.0</td>\n",
              "      <td>0.0</td>\n",
              "      <td>0.0</td>\n",
              "    </tr>\n",
              "    <tr>\n",
              "      <th>27386</th>\n",
              "      <td>0.359447</td>\n",
              "      <td>1.011690</td>\n",
              "      <td>0.802160</td>\n",
              "      <td>0.980724</td>\n",
              "      <td>0.709002</td>\n",
              "      <td>-1.216845</td>\n",
              "      <td>0.122541</td>\n",
              "      <td>1.409310</td>\n",
              "      <td>0.000000</td>\n",
              "      <td>0.0</td>\n",
              "      <td>...</td>\n",
              "      <td>0.0</td>\n",
              "      <td>0.0</td>\n",
              "      <td>1.0</td>\n",
              "      <td>0.0</td>\n",
              "      <td>0.0</td>\n",
              "      <td>0.0</td>\n",
              "      <td>0.0</td>\n",
              "      <td>0.0</td>\n",
              "      <td>0.0</td>\n",
              "      <td>0.0</td>\n",
              "    </tr>\n",
              "    <tr>\n",
              "      <th>...</th>\n",
              "      <td>...</td>\n",
              "      <td>...</td>\n",
              "      <td>...</td>\n",
              "      <td>...</td>\n",
              "      <td>...</td>\n",
              "      <td>...</td>\n",
              "      <td>...</td>\n",
              "      <td>...</td>\n",
              "      <td>...</td>\n",
              "      <td>...</td>\n",
              "      <td>...</td>\n",
              "      <td>...</td>\n",
              "      <td>...</td>\n",
              "      <td>...</td>\n",
              "      <td>...</td>\n",
              "      <td>...</td>\n",
              "      <td>...</td>\n",
              "      <td>...</td>\n",
              "      <td>...</td>\n",
              "      <td>...</td>\n",
              "      <td>...</td>\n",
              "    </tr>\n",
              "    <tr>\n",
              "      <th>23528</th>\n",
              "      <td>-0.170507</td>\n",
              "      <td>1.766719</td>\n",
              "      <td>1.902469</td>\n",
              "      <td>1.891117</td>\n",
              "      <td>-1.219943</td>\n",
              "      <td>-0.698398</td>\n",
              "      <td>0.122541</td>\n",
              "      <td>-1.424584</td>\n",
              "      <td>1.001785</td>\n",
              "      <td>0.0</td>\n",
              "      <td>...</td>\n",
              "      <td>0.0</td>\n",
              "      <td>1.0</td>\n",
              "      <td>0.0</td>\n",
              "      <td>0.0</td>\n",
              "      <td>0.0</td>\n",
              "      <td>0.0</td>\n",
              "      <td>0.0</td>\n",
              "      <td>0.0</td>\n",
              "      <td>0.0</td>\n",
              "      <td>0.0</td>\n",
              "    </tr>\n",
              "    <tr>\n",
              "      <th>4743</th>\n",
              "      <td>-0.237327</td>\n",
              "      <td>1.305312</td>\n",
              "      <td>1.297795</td>\n",
              "      <td>1.325034</td>\n",
              "      <td>-0.703084</td>\n",
              "      <td>-1.216845</td>\n",
              "      <td>-0.171050</td>\n",
              "      <td>1.409310</td>\n",
              "      <td>0.000000</td>\n",
              "      <td>0.0</td>\n",
              "      <td>...</td>\n",
              "      <td>0.0</td>\n",
              "      <td>1.0</td>\n",
              "      <td>0.0</td>\n",
              "      <td>0.0</td>\n",
              "      <td>0.0</td>\n",
              "      <td>0.0</td>\n",
              "      <td>0.0</td>\n",
              "      <td>0.0</td>\n",
              "      <td>0.0</td>\n",
              "      <td>0.0</td>\n",
              "    </tr>\n",
              "    <tr>\n",
              "      <th>27204</th>\n",
              "      <td>-0.188940</td>\n",
              "      <td>-1.379238</td>\n",
              "      <td>-0.129633</td>\n",
              "      <td>-0.777066</td>\n",
              "      <td>0.709002</td>\n",
              "      <td>1.236476</td>\n",
              "      <td>1.111895</td>\n",
              "      <td>-0.845085</td>\n",
              "      <td>0.000000</td>\n",
              "      <td>0.0</td>\n",
              "      <td>...</td>\n",
              "      <td>0.0</td>\n",
              "      <td>1.0</td>\n",
              "      <td>0.0</td>\n",
              "      <td>0.0</td>\n",
              "      <td>0.0</td>\n",
              "      <td>0.0</td>\n",
              "      <td>0.0</td>\n",
              "      <td>0.0</td>\n",
              "      <td>0.0</td>\n",
              "      <td>0.0</td>\n",
              "    </tr>\n",
              "    <tr>\n",
              "      <th>27203</th>\n",
              "      <td>-0.188940</td>\n",
              "      <td>-1.379238</td>\n",
              "      <td>-0.129633</td>\n",
              "      <td>-0.777066</td>\n",
              "      <td>0.709002</td>\n",
              "      <td>1.236476</td>\n",
              "      <td>1.111895</td>\n",
              "      <td>-0.845085</td>\n",
              "      <td>0.000000</td>\n",
              "      <td>0.0</td>\n",
              "      <td>...</td>\n",
              "      <td>0.0</td>\n",
              "      <td>1.0</td>\n",
              "      <td>0.0</td>\n",
              "      <td>0.0</td>\n",
              "      <td>0.0</td>\n",
              "      <td>0.0</td>\n",
              "      <td>0.0</td>\n",
              "      <td>0.0</td>\n",
              "      <td>0.0</td>\n",
              "      <td>0.0</td>\n",
              "    </tr>\n",
              "    <tr>\n",
              "      <th>0</th>\n",
              "      <td>-0.020737</td>\n",
              "      <td>-1.788213</td>\n",
              "      <td>-1.953567</td>\n",
              "      <td>-1.856593</td>\n",
              "      <td>1.415045</td>\n",
              "      <td>0.009815</td>\n",
              "      <td>0.677925</td>\n",
              "      <td>-1.241508</td>\n",
              "      <td>0.000000</td>\n",
              "      <td>0.0</td>\n",
              "      <td>...</td>\n",
              "      <td>0.0</td>\n",
              "      <td>1.0</td>\n",
              "      <td>0.0</td>\n",
              "      <td>0.0</td>\n",
              "      <td>0.0</td>\n",
              "      <td>1.0</td>\n",
              "      <td>0.0</td>\n",
              "      <td>0.0</td>\n",
              "      <td>0.0</td>\n",
              "      <td>0.0</td>\n",
              "    </tr>\n",
              "  </tbody>\n",
              "</table>\n",
              "<p>42978 rows × 44 columns</p>\n",
              "</div>\n",
              "      <button class=\"colab-df-convert\" onclick=\"convertToInteractive('df-efc3331d-3c0b-4b0b-aa0c-de0080aff625')\"\n",
              "              title=\"Convert this dataframe to an interactive table.\"\n",
              "              style=\"display:none;\">\n",
              "        \n",
              "  <svg xmlns=\"http://www.w3.org/2000/svg\" height=\"24px\"viewBox=\"0 0 24 24\"\n",
              "       width=\"24px\">\n",
              "    <path d=\"M0 0h24v24H0V0z\" fill=\"none\"/>\n",
              "    <path d=\"M18.56 5.44l.94 2.06.94-2.06 2.06-.94-2.06-.94-.94-2.06-.94 2.06-2.06.94zm-11 1L8.5 8.5l.94-2.06 2.06-.94-2.06-.94L8.5 2.5l-.94 2.06-2.06.94zm10 10l.94 2.06.94-2.06 2.06-.94-2.06-.94-.94-2.06-.94 2.06-2.06.94z\"/><path d=\"M17.41 7.96l-1.37-1.37c-.4-.4-.92-.59-1.43-.59-.52 0-1.04.2-1.43.59L10.3 9.45l-7.72 7.72c-.78.78-.78 2.05 0 2.83L4 21.41c.39.39.9.59 1.41.59.51 0 1.02-.2 1.41-.59l7.78-7.78 2.81-2.81c.8-.78.8-2.07 0-2.86zM5.41 20L4 18.59l7.72-7.72 1.47 1.35L5.41 20z\"/>\n",
              "  </svg>\n",
              "      </button>\n",
              "      \n",
              "  <style>\n",
              "    .colab-df-container {\n",
              "      display:flex;\n",
              "      flex-wrap:wrap;\n",
              "      gap: 12px;\n",
              "    }\n",
              "\n",
              "    .colab-df-convert {\n",
              "      background-color: #E8F0FE;\n",
              "      border: none;\n",
              "      border-radius: 50%;\n",
              "      cursor: pointer;\n",
              "      display: none;\n",
              "      fill: #1967D2;\n",
              "      height: 32px;\n",
              "      padding: 0 0 0 0;\n",
              "      width: 32px;\n",
              "    }\n",
              "\n",
              "    .colab-df-convert:hover {\n",
              "      background-color: #E2EBFA;\n",
              "      box-shadow: 0px 1px 2px rgba(60, 64, 67, 0.3), 0px 1px 3px 1px rgba(60, 64, 67, 0.15);\n",
              "      fill: #174EA6;\n",
              "    }\n",
              "\n",
              "    [theme=dark] .colab-df-convert {\n",
              "      background-color: #3B4455;\n",
              "      fill: #D2E3FC;\n",
              "    }\n",
              "\n",
              "    [theme=dark] .colab-df-convert:hover {\n",
              "      background-color: #434B5C;\n",
              "      box-shadow: 0px 1px 3px 1px rgba(0, 0, 0, 0.15);\n",
              "      filter: drop-shadow(0px 1px 2px rgba(0, 0, 0, 0.3));\n",
              "      fill: #FFFFFF;\n",
              "    }\n",
              "  </style>\n",
              "\n",
              "      <script>\n",
              "        const buttonEl =\n",
              "          document.querySelector('#df-efc3331d-3c0b-4b0b-aa0c-de0080aff625 button.colab-df-convert');\n",
              "        buttonEl.style.display =\n",
              "          google.colab.kernel.accessAllowed ? 'block' : 'none';\n",
              "\n",
              "        async function convertToInteractive(key) {\n",
              "          const element = document.querySelector('#df-efc3331d-3c0b-4b0b-aa0c-de0080aff625');\n",
              "          const dataTable =\n",
              "            await google.colab.kernel.invokeFunction('convertToInteractive',\n",
              "                                                     [key], {});\n",
              "          if (!dataTable) return;\n",
              "\n",
              "          const docLinkHtml = 'Like what you see? Visit the ' +\n",
              "            '<a target=\"_blank\" href=https://colab.research.google.com/notebooks/data_table.ipynb>data table notebook</a>'\n",
              "            + ' to learn more about interactive tables.';\n",
              "          element.innerHTML = '';\n",
              "          dataTable['output_type'] = 'display_data';\n",
              "          await google.colab.output.renderOutput(dataTable, element);\n",
              "          const docLink = document.createElement('div');\n",
              "          docLink.innerHTML = docLinkHtml;\n",
              "          element.appendChild(docLink);\n",
              "        }\n",
              "      </script>\n",
              "    </div>\n",
              "  </div>\n",
              "  "
            ]
          },
          "metadata": {},
          "execution_count": 56
        }
      ]
    },
    {
      "cell_type": "code",
      "source": [
        "#Extends columns list with additional column names after applying a pipeline transformation\n",
        "columns = [\"WindSpAvg\",'Temp Min',\"Temp Max\",'Temp Average','month_cos','month_sin','date_cos','date_sin','Precip (Sum)']\n",
        "columns.extend([c\n",
        "               for c in p.named_steps['preprocess']\n",
        "               .named_transformers_['OneHotTransform']\n",
        "               .get_feature_names_out([\"Description\",'day','PrecipInt','Cloudcover'])])\n",
        "columns.extend(['holiday','tstorms','winter','mist','fog'])"
      ],
      "metadata": {
        "id": "NqFCQnDRklr1"
      },
      "execution_count": null,
      "outputs": []
    },
    {
      "cell_type": "code",
      "source": [
        "X.shape"
      ],
      "metadata": {
        "colab": {
          "base_uri": "https://localhost:8080/"
        },
        "id": "JcMVHyvpuyuD",
        "outputId": "20ecce35-84e5-43cc-af72-108a1c20ea1f"
      },
      "execution_count": null,
      "outputs": [
        {
          "output_type": "execute_result",
          "data": {
            "text/plain": [
              "(42978, 44)"
            ]
          },
          "metadata": {},
          "execution_count": 58
        }
      ]
    },
    {
      "cell_type": "code",
      "source": [
        "mdf_tnf = pd.DataFrame(X, columns=columns)\n",
        "mdf_tnf"
      ],
      "metadata": {
        "colab": {
          "base_uri": "https://localhost:8080/",
          "height": 505
        },
        "id": "cH31zc_GsTFM",
        "outputId": "07e555d6-53d2-4a14-b928-f19c27186361"
      },
      "execution_count": null,
      "outputs": [
        {
          "output_type": "execute_result",
          "data": {
            "text/plain": [
              "       WindSpAvg  Temp Min  Temp Max  Temp Average  month_cos  month_sin  \\\n",
              "0      -0.020737 -1.788213 -1.953567     -1.856593   1.415045   0.009815   \n",
              "1       0.783410  1.588449  1.575350      1.517036  -0.703084  -1.216845   \n",
              "2       1.225806 -0.739560 -0.793783     -0.849984   1.225861  -0.698398   \n",
              "3       0.025346 -0.561289 -0.466664     -0.375372  -0.703084   1.236476   \n",
              "4      -0.755760 -1.085616 -0.625267     -0.919018   0.709002  -1.216845   \n",
              "...          ...       ...       ...           ...        ...        ...   \n",
              "42973  -0.181475  1.242393  1.248231      1.253928  -1.219943  -0.698398   \n",
              "42974  -0.181475  1.242393  1.248231      1.253928  -1.219943  -0.698398   \n",
              "42975  -0.181475  1.242393  1.248231      1.253928  -1.219943  -0.698398   \n",
              "42976  -0.181475  1.242393  1.248231      1.253928  -1.219943  -0.698398   \n",
              "42977  -0.181475  1.242393  1.248231      1.253928  -1.219943  -0.698398   \n",
              "\n",
              "       date_cos  date_sin  Precip (Sum)  Description_AGG. ASSAULT  ...  \\\n",
              "0      0.677925 -1.241508      0.000000                       0.0  ...   \n",
              "1      0.677925  1.226235      0.000000                       0.0  ...   \n",
              "2     -0.171050  1.409310      0.977771                       0.0  ...   \n",
              "3      1.111895 -0.845085      0.000000                       0.0  ...   \n",
              "4      1.349415  0.288586      0.000000                       0.0  ...   \n",
              "...         ...       ...           ...                       ...  ...   \n",
              "42973 -0.963954  1.051160      0.000000                       0.0  ...   \n",
              "42974 -0.963954  1.051160      0.000000                       0.0  ...   \n",
              "42975 -0.963954  1.051160      0.000000                       0.0  ...   \n",
              "42976 -0.963954  1.051160      0.000000                       1.0  ...   \n",
              "42977 -0.963954  1.051160      0.000000                       0.0  ...   \n",
              "\n",
              "       Cloudcover_1.0  Cloudcover_2.0  Cloudcover_3.0  Cloudcover_4.0  \\\n",
              "0                 0.0             1.0             0.0             0.0   \n",
              "1                 0.0             1.0             0.0             0.0   \n",
              "2                 0.0             1.0             0.0             0.0   \n",
              "3                 0.0             0.0             1.0             0.0   \n",
              "4                 0.0             0.0             1.0             0.0   \n",
              "...               ...             ...             ...             ...   \n",
              "42973             0.0             0.0             1.0             0.0   \n",
              "42974             0.0             0.0             1.0             0.0   \n",
              "42975             0.0             0.0             1.0             0.0   \n",
              "42976             0.0             0.0             1.0             0.0   \n",
              "42977             0.0             0.0             1.0             0.0   \n",
              "\n",
              "       Cloudcover_5.0  holiday  tstorms  winter  mist  fog  \n",
              "0                 0.0      1.0      0.0     0.0   0.0  0.0  \n",
              "1                 0.0      0.0      0.0     0.0   0.0  0.0  \n",
              "2                 0.0      0.0      0.0     0.0   0.0  0.0  \n",
              "3                 0.0      0.0      0.0     0.0   0.0  0.0  \n",
              "4                 0.0      0.0      0.0     0.0   0.0  0.0  \n",
              "...               ...      ...      ...     ...   ...  ...  \n",
              "42973             0.0      0.0      0.0     0.0   0.0  0.0  \n",
              "42974             0.0      0.0      0.0     0.0   0.0  0.0  \n",
              "42975             0.0      0.0      0.0     0.0   0.0  0.0  \n",
              "42976             0.0      0.0      0.0     0.0   0.0  0.0  \n",
              "42977             0.0      0.0      0.0     0.0   0.0  0.0  \n",
              "\n",
              "[42978 rows x 44 columns]"
            ],
            "text/html": [
              "\n",
              "  <div id=\"df-4aa06907-1a3f-44c8-8203-0cd24a0c6487\">\n",
              "    <div class=\"colab-df-container\">\n",
              "      <div>\n",
              "<style scoped>\n",
              "    .dataframe tbody tr th:only-of-type {\n",
              "        vertical-align: middle;\n",
              "    }\n",
              "\n",
              "    .dataframe tbody tr th {\n",
              "        vertical-align: top;\n",
              "    }\n",
              "\n",
              "    .dataframe thead th {\n",
              "        text-align: right;\n",
              "    }\n",
              "</style>\n",
              "<table border=\"1\" class=\"dataframe\">\n",
              "  <thead>\n",
              "    <tr style=\"text-align: right;\">\n",
              "      <th></th>\n",
              "      <th>WindSpAvg</th>\n",
              "      <th>Temp Min</th>\n",
              "      <th>Temp Max</th>\n",
              "      <th>Temp Average</th>\n",
              "      <th>month_cos</th>\n",
              "      <th>month_sin</th>\n",
              "      <th>date_cos</th>\n",
              "      <th>date_sin</th>\n",
              "      <th>Precip (Sum)</th>\n",
              "      <th>Description_AGG. ASSAULT</th>\n",
              "      <th>...</th>\n",
              "      <th>Cloudcover_1.0</th>\n",
              "      <th>Cloudcover_2.0</th>\n",
              "      <th>Cloudcover_3.0</th>\n",
              "      <th>Cloudcover_4.0</th>\n",
              "      <th>Cloudcover_5.0</th>\n",
              "      <th>holiday</th>\n",
              "      <th>tstorms</th>\n",
              "      <th>winter</th>\n",
              "      <th>mist</th>\n",
              "      <th>fog</th>\n",
              "    </tr>\n",
              "  </thead>\n",
              "  <tbody>\n",
              "    <tr>\n",
              "      <th>0</th>\n",
              "      <td>-0.020737</td>\n",
              "      <td>-1.788213</td>\n",
              "      <td>-1.953567</td>\n",
              "      <td>-1.856593</td>\n",
              "      <td>1.415045</td>\n",
              "      <td>0.009815</td>\n",
              "      <td>0.677925</td>\n",
              "      <td>-1.241508</td>\n",
              "      <td>0.000000</td>\n",
              "      <td>0.0</td>\n",
              "      <td>...</td>\n",
              "      <td>0.0</td>\n",
              "      <td>1.0</td>\n",
              "      <td>0.0</td>\n",
              "      <td>0.0</td>\n",
              "      <td>0.0</td>\n",
              "      <td>1.0</td>\n",
              "      <td>0.0</td>\n",
              "      <td>0.0</td>\n",
              "      <td>0.0</td>\n",
              "      <td>0.0</td>\n",
              "    </tr>\n",
              "    <tr>\n",
              "      <th>1</th>\n",
              "      <td>0.783410</td>\n",
              "      <td>1.588449</td>\n",
              "      <td>1.575350</td>\n",
              "      <td>1.517036</td>\n",
              "      <td>-0.703084</td>\n",
              "      <td>-1.216845</td>\n",
              "      <td>0.677925</td>\n",
              "      <td>1.226235</td>\n",
              "      <td>0.000000</td>\n",
              "      <td>0.0</td>\n",
              "      <td>...</td>\n",
              "      <td>0.0</td>\n",
              "      <td>1.0</td>\n",
              "      <td>0.0</td>\n",
              "      <td>0.0</td>\n",
              "      <td>0.0</td>\n",
              "      <td>0.0</td>\n",
              "      <td>0.0</td>\n",
              "      <td>0.0</td>\n",
              "      <td>0.0</td>\n",
              "      <td>0.0</td>\n",
              "    </tr>\n",
              "    <tr>\n",
              "      <th>2</th>\n",
              "      <td>1.225806</td>\n",
              "      <td>-0.739560</td>\n",
              "      <td>-0.793783</td>\n",
              "      <td>-0.849984</td>\n",
              "      <td>1.225861</td>\n",
              "      <td>-0.698398</td>\n",
              "      <td>-0.171050</td>\n",
              "      <td>1.409310</td>\n",
              "      <td>0.977771</td>\n",
              "      <td>0.0</td>\n",
              "      <td>...</td>\n",
              "      <td>0.0</td>\n",
              "      <td>1.0</td>\n",
              "      <td>0.0</td>\n",
              "      <td>0.0</td>\n",
              "      <td>0.0</td>\n",
              "      <td>0.0</td>\n",
              "      <td>0.0</td>\n",
              "      <td>0.0</td>\n",
              "      <td>0.0</td>\n",
              "      <td>0.0</td>\n",
              "    </tr>\n",
              "    <tr>\n",
              "      <th>3</th>\n",
              "      <td>0.025346</td>\n",
              "      <td>-0.561289</td>\n",
              "      <td>-0.466664</td>\n",
              "      <td>-0.375372</td>\n",
              "      <td>-0.703084</td>\n",
              "      <td>1.236476</td>\n",
              "      <td>1.111895</td>\n",
              "      <td>-0.845085</td>\n",
              "      <td>0.000000</td>\n",
              "      <td>0.0</td>\n",
              "      <td>...</td>\n",
              "      <td>0.0</td>\n",
              "      <td>0.0</td>\n",
              "      <td>1.0</td>\n",
              "      <td>0.0</td>\n",
              "      <td>0.0</td>\n",
              "      <td>0.0</td>\n",
              "      <td>0.0</td>\n",
              "      <td>0.0</td>\n",
              "      <td>0.0</td>\n",
              "      <td>0.0</td>\n",
              "    </tr>\n",
              "    <tr>\n",
              "      <th>4</th>\n",
              "      <td>-0.755760</td>\n",
              "      <td>-1.085616</td>\n",
              "      <td>-0.625267</td>\n",
              "      <td>-0.919018</td>\n",
              "      <td>0.709002</td>\n",
              "      <td>-1.216845</td>\n",
              "      <td>1.349415</td>\n",
              "      <td>0.288586</td>\n",
              "      <td>0.000000</td>\n",
              "      <td>0.0</td>\n",
              "      <td>...</td>\n",
              "      <td>0.0</td>\n",
              "      <td>0.0</td>\n",
              "      <td>1.0</td>\n",
              "      <td>0.0</td>\n",
              "      <td>0.0</td>\n",
              "      <td>0.0</td>\n",
              "      <td>0.0</td>\n",
              "      <td>0.0</td>\n",
              "      <td>0.0</td>\n",
              "      <td>0.0</td>\n",
              "    </tr>\n",
              "    <tr>\n",
              "      <th>...</th>\n",
              "      <td>...</td>\n",
              "      <td>...</td>\n",
              "      <td>...</td>\n",
              "      <td>...</td>\n",
              "      <td>...</td>\n",
              "      <td>...</td>\n",
              "      <td>...</td>\n",
              "      <td>...</td>\n",
              "      <td>...</td>\n",
              "      <td>...</td>\n",
              "      <td>...</td>\n",
              "      <td>...</td>\n",
              "      <td>...</td>\n",
              "      <td>...</td>\n",
              "      <td>...</td>\n",
              "      <td>...</td>\n",
              "      <td>...</td>\n",
              "      <td>...</td>\n",
              "      <td>...</td>\n",
              "      <td>...</td>\n",
              "      <td>...</td>\n",
              "    </tr>\n",
              "    <tr>\n",
              "      <th>42973</th>\n",
              "      <td>-0.181475</td>\n",
              "      <td>1.242393</td>\n",
              "      <td>1.248231</td>\n",
              "      <td>1.253928</td>\n",
              "      <td>-1.219943</td>\n",
              "      <td>-0.698398</td>\n",
              "      <td>-0.963954</td>\n",
              "      <td>1.051160</td>\n",
              "      <td>0.000000</td>\n",
              "      <td>0.0</td>\n",
              "      <td>...</td>\n",
              "      <td>0.0</td>\n",
              "      <td>0.0</td>\n",
              "      <td>1.0</td>\n",
              "      <td>0.0</td>\n",
              "      <td>0.0</td>\n",
              "      <td>0.0</td>\n",
              "      <td>0.0</td>\n",
              "      <td>0.0</td>\n",
              "      <td>0.0</td>\n",
              "      <td>0.0</td>\n",
              "    </tr>\n",
              "    <tr>\n",
              "      <th>42974</th>\n",
              "      <td>-0.181475</td>\n",
              "      <td>1.242393</td>\n",
              "      <td>1.248231</td>\n",
              "      <td>1.253928</td>\n",
              "      <td>-1.219943</td>\n",
              "      <td>-0.698398</td>\n",
              "      <td>-0.963954</td>\n",
              "      <td>1.051160</td>\n",
              "      <td>0.000000</td>\n",
              "      <td>0.0</td>\n",
              "      <td>...</td>\n",
              "      <td>0.0</td>\n",
              "      <td>0.0</td>\n",
              "      <td>1.0</td>\n",
              "      <td>0.0</td>\n",
              "      <td>0.0</td>\n",
              "      <td>0.0</td>\n",
              "      <td>0.0</td>\n",
              "      <td>0.0</td>\n",
              "      <td>0.0</td>\n",
              "      <td>0.0</td>\n",
              "    </tr>\n",
              "    <tr>\n",
              "      <th>42975</th>\n",
              "      <td>-0.181475</td>\n",
              "      <td>1.242393</td>\n",
              "      <td>1.248231</td>\n",
              "      <td>1.253928</td>\n",
              "      <td>-1.219943</td>\n",
              "      <td>-0.698398</td>\n",
              "      <td>-0.963954</td>\n",
              "      <td>1.051160</td>\n",
              "      <td>0.000000</td>\n",
              "      <td>0.0</td>\n",
              "      <td>...</td>\n",
              "      <td>0.0</td>\n",
              "      <td>0.0</td>\n",
              "      <td>1.0</td>\n",
              "      <td>0.0</td>\n",
              "      <td>0.0</td>\n",
              "      <td>0.0</td>\n",
              "      <td>0.0</td>\n",
              "      <td>0.0</td>\n",
              "      <td>0.0</td>\n",
              "      <td>0.0</td>\n",
              "    </tr>\n",
              "    <tr>\n",
              "      <th>42976</th>\n",
              "      <td>-0.181475</td>\n",
              "      <td>1.242393</td>\n",
              "      <td>1.248231</td>\n",
              "      <td>1.253928</td>\n",
              "      <td>-1.219943</td>\n",
              "      <td>-0.698398</td>\n",
              "      <td>-0.963954</td>\n",
              "      <td>1.051160</td>\n",
              "      <td>0.000000</td>\n",
              "      <td>1.0</td>\n",
              "      <td>...</td>\n",
              "      <td>0.0</td>\n",
              "      <td>0.0</td>\n",
              "      <td>1.0</td>\n",
              "      <td>0.0</td>\n",
              "      <td>0.0</td>\n",
              "      <td>0.0</td>\n",
              "      <td>0.0</td>\n",
              "      <td>0.0</td>\n",
              "      <td>0.0</td>\n",
              "      <td>0.0</td>\n",
              "    </tr>\n",
              "    <tr>\n",
              "      <th>42977</th>\n",
              "      <td>-0.181475</td>\n",
              "      <td>1.242393</td>\n",
              "      <td>1.248231</td>\n",
              "      <td>1.253928</td>\n",
              "      <td>-1.219943</td>\n",
              "      <td>-0.698398</td>\n",
              "      <td>-0.963954</td>\n",
              "      <td>1.051160</td>\n",
              "      <td>0.000000</td>\n",
              "      <td>0.0</td>\n",
              "      <td>...</td>\n",
              "      <td>0.0</td>\n",
              "      <td>0.0</td>\n",
              "      <td>1.0</td>\n",
              "      <td>0.0</td>\n",
              "      <td>0.0</td>\n",
              "      <td>0.0</td>\n",
              "      <td>0.0</td>\n",
              "      <td>0.0</td>\n",
              "      <td>0.0</td>\n",
              "      <td>0.0</td>\n",
              "    </tr>\n",
              "  </tbody>\n",
              "</table>\n",
              "<p>42978 rows × 44 columns</p>\n",
              "</div>\n",
              "      <button class=\"colab-df-convert\" onclick=\"convertToInteractive('df-4aa06907-1a3f-44c8-8203-0cd24a0c6487')\"\n",
              "              title=\"Convert this dataframe to an interactive table.\"\n",
              "              style=\"display:none;\">\n",
              "        \n",
              "  <svg xmlns=\"http://www.w3.org/2000/svg\" height=\"24px\"viewBox=\"0 0 24 24\"\n",
              "       width=\"24px\">\n",
              "    <path d=\"M0 0h24v24H0V0z\" fill=\"none\"/>\n",
              "    <path d=\"M18.56 5.44l.94 2.06.94-2.06 2.06-.94-2.06-.94-.94-2.06-.94 2.06-2.06.94zm-11 1L8.5 8.5l.94-2.06 2.06-.94-2.06-.94L8.5 2.5l-.94 2.06-2.06.94zm10 10l.94 2.06.94-2.06 2.06-.94-2.06-.94-.94-2.06-.94 2.06-2.06.94z\"/><path d=\"M17.41 7.96l-1.37-1.37c-.4-.4-.92-.59-1.43-.59-.52 0-1.04.2-1.43.59L10.3 9.45l-7.72 7.72c-.78.78-.78 2.05 0 2.83L4 21.41c.39.39.9.59 1.41.59.51 0 1.02-.2 1.41-.59l7.78-7.78 2.81-2.81c.8-.78.8-2.07 0-2.86zM5.41 20L4 18.59l7.72-7.72 1.47 1.35L5.41 20z\"/>\n",
              "  </svg>\n",
              "      </button>\n",
              "      \n",
              "  <style>\n",
              "    .colab-df-container {\n",
              "      display:flex;\n",
              "      flex-wrap:wrap;\n",
              "      gap: 12px;\n",
              "    }\n",
              "\n",
              "    .colab-df-convert {\n",
              "      background-color: #E8F0FE;\n",
              "      border: none;\n",
              "      border-radius: 50%;\n",
              "      cursor: pointer;\n",
              "      display: none;\n",
              "      fill: #1967D2;\n",
              "      height: 32px;\n",
              "      padding: 0 0 0 0;\n",
              "      width: 32px;\n",
              "    }\n",
              "\n",
              "    .colab-df-convert:hover {\n",
              "      background-color: #E2EBFA;\n",
              "      box-shadow: 0px 1px 2px rgba(60, 64, 67, 0.3), 0px 1px 3px 1px rgba(60, 64, 67, 0.15);\n",
              "      fill: #174EA6;\n",
              "    }\n",
              "\n",
              "    [theme=dark] .colab-df-convert {\n",
              "      background-color: #3B4455;\n",
              "      fill: #D2E3FC;\n",
              "    }\n",
              "\n",
              "    [theme=dark] .colab-df-convert:hover {\n",
              "      background-color: #434B5C;\n",
              "      box-shadow: 0px 1px 3px 1px rgba(0, 0, 0, 0.15);\n",
              "      filter: drop-shadow(0px 1px 2px rgba(0, 0, 0, 0.3));\n",
              "      fill: #FFFFFF;\n",
              "    }\n",
              "  </style>\n",
              "\n",
              "      <script>\n",
              "        const buttonEl =\n",
              "          document.querySelector('#df-4aa06907-1a3f-44c8-8203-0cd24a0c6487 button.colab-df-convert');\n",
              "        buttonEl.style.display =\n",
              "          google.colab.kernel.accessAllowed ? 'block' : 'none';\n",
              "\n",
              "        async function convertToInteractive(key) {\n",
              "          const element = document.querySelector('#df-4aa06907-1a3f-44c8-8203-0cd24a0c6487');\n",
              "          const dataTable =\n",
              "            await google.colab.kernel.invokeFunction('convertToInteractive',\n",
              "                                                     [key], {});\n",
              "          if (!dataTable) return;\n",
              "\n",
              "          const docLinkHtml = 'Like what you see? Visit the ' +\n",
              "            '<a target=\"_blank\" href=https://colab.research.google.com/notebooks/data_table.ipynb>data table notebook</a>'\n",
              "            + ' to learn more about interactive tables.';\n",
              "          element.innerHTML = '';\n",
              "          dataTable['output_type'] = 'display_data';\n",
              "          await google.colab.output.renderOutput(dataTable, element);\n",
              "          const docLink = document.createElement('div');\n",
              "          docLink.innerHTML = docLinkHtml;\n",
              "          element.appendChild(docLink);\n",
              "        }\n",
              "      </script>\n",
              "    </div>\n",
              "  </div>\n",
              "  "
            ]
          },
          "metadata": {},
          "execution_count": 59
        }
      ]
    },
    {
      "cell_type": "code",
      "source": [
        "y.shape"
      ],
      "metadata": {
        "id": "z5qLL2KPxCYq",
        "colab": {
          "base_uri": "https://localhost:8080/"
        },
        "outputId": "ed57d7c0-d7dc-4b11-e9c3-e7ab94eda797"
      },
      "execution_count": null,
      "outputs": [
        {
          "output_type": "execute_result",
          "data": {
            "text/plain": [
              "(42978,)"
            ]
          },
          "metadata": {},
          "execution_count": 60
        }
      ]
    },
    {
      "cell_type": "code",
      "source": [
        "import pandas as pd\n",
        "\n",
        "from sklearn.model_selection import train_test_split\n",
        "from sklearn.linear_model import LinearRegression\n",
        "from sklearn.tree import DecisionTreeRegressor\n",
        "from sklearn.ensemble import RandomForestRegressor\n",
        "from xgboost import XGBRegressor\n",
        "from lightgbm import LGBMRegressor\n",
        "from sklearn.metrics import mean_squared_error, mean_absolute_error, r2_score"
      ],
      "metadata": {
        "id": "ps5d21blNQ8y"
      },
      "execution_count": null,
      "outputs": []
    },
    {
      "cell_type": "code",
      "source": [
        "\n",
        "\n",
        "# Split data into training and testing sets\n",
        "X = mdf_tnf\n",
        "\n",
        "X_train, X_test, y_train, y_test = train_test_split(X, y, test_size=0.2, random_state=42)"
      ],
      "metadata": {
        "id": "Jevs6oUKYeOT"
      },
      "execution_count": null,
      "outputs": []
    },
    {
      "cell_type": "code",
      "source": [
        "\n",
        "\n",
        "# Define the regression models to use\n",
        "linear_reg = LinearRegression()\n",
        "decision_tree_reg = DecisionTreeRegressor()\n",
        "random_forest_reg = RandomForestRegressor()\n",
        "xgb_reg = XGBRegressor()\n",
        "lgbm_reg = LGBMRegressor()\n",
        "# Train and evaluate the models\n"
      ],
      "metadata": {
        "id": "pdVoymOIN_og"
      },
      "execution_count": null,
      "outputs": []
    },
    {
      "cell_type": "code",
      "source": [
        "linear_reg.fit(X_train, y_train)\n",
        "\n",
        "# Make predictions on testing data\n",
        "y_pred = linear_reg.predict(X_test)\n",
        "\n",
        "# Calculate evaluation metrics\n",
        "mse = mean_squared_error(y_test, y_pred)\n",
        "mae = mean_absolute_error(y_test, y_pred)\n",
        "r2 = r2_score(y_test, y_pred)\n",
        "\n",
        "# Print evaluation metrics\n",
        "print(f\"Liear Regression Metrics: MSE = {mse:.2f}, MAE = {mae:.2f}, R^2 = {r2:.2f}\")"
      ],
      "metadata": {
        "colab": {
          "base_uri": "https://localhost:8080/"
        },
        "id": "dxtHjp13oDx3",
        "outputId": "37042e4d-94ec-4dc6-e3a3-76885232c5c6"
      },
      "execution_count": null,
      "outputs": [
        {
          "output_type": "stream",
          "name": "stdout",
          "text": [
            "Liear Regression Metrics: MSE = 2.73, MAE = 0.94, R^2 = 0.44\n"
          ]
        }
      ]
    },
    {
      "cell_type": "code",
      "source": [
        "decision_tree_reg.fit(X_train, y_train)\n",
        "\n",
        "# Make predictions on testing data\n",
        "y_pred = decision_tree_reg.predict(X_test)\n",
        "\n",
        "# Calculate evaluation metrics\n",
        "mse = mean_squared_error(y_test, y_pred)\n",
        "mae = mean_absolute_error(y_test, y_pred)\n",
        "r2 = r2_score(y_test, y_pred)\n",
        "\n",
        "# Print evaluation metrics\n",
        "print(f\"Decision Tree Regression Metrics: MSE = {mse:.2f}, MAE = {mae:.2f}, R^2 = {r2:.2f}\")"
      ],
      "metadata": {
        "colab": {
          "base_uri": "https://localhost:8080/"
        },
        "id": "hEbe-X00oN3C",
        "outputId": "ec9aa04c-c0d8-44ee-ed58-6378627be823"
      },
      "execution_count": null,
      "outputs": [
        {
          "output_type": "stream",
          "name": "stdout",
          "text": [
            "Decision Tree Regression Metrics: MSE = 4.93, MAE = 1.26, R^2 = -0.00\n"
          ]
        }
      ]
    },
    {
      "cell_type": "code",
      "source": [
        "random_forest_reg.fit(X_train, y_train)\n",
        "\n",
        "# Make predictions on testing data\n",
        "y_pred = random_forest_reg.predict(X_test)\n",
        "\n",
        "# Calculate evaluation metrics\n",
        "mse = mean_squared_error(y_test, y_pred)\n",
        "mae = mean_absolute_error(y_test, y_pred)\n",
        "r2 = r2_score(y_test, y_pred)\n",
        "\n",
        "# Print evaluation metrics\n",
        "print(f\"Random forest Regression Metrics: MSE = {mse:.2f}, MAE = {mae:.2f}, R^2 = {r2:.2f}\")"
      ],
      "metadata": {
        "colab": {
          "base_uri": "https://localhost:8080/"
        },
        "id": "fqiizSLfoZWS",
        "outputId": "f6f26436-14ac-48de-a5eb-547b3a0a9c0c"
      },
      "execution_count": null,
      "outputs": [
        {
          "output_type": "stream",
          "name": "stdout",
          "text": [
            "Random forest Regression Metrics: MSE = 2.83, MAE = 0.96, R^2 = 0.42\n"
          ]
        }
      ]
    },
    {
      "cell_type": "code",
      "source": [
        "random_forest_reg.fit(X_train, y_train)\n",
        "\n",
        "# Make predictions on testing data\n",
        "y_pred = random_forest_reg.predict(X_test)\n",
        "\n",
        "# Calculate evaluation metrics\n",
        "mse = mean_squared_error(y_test, y_pred)\n",
        "mae = mean_absolute_error(y_test, y_pred)\n",
        "r2 = r2_score(y_test, y_pred)\n",
        "\n",
        "# Print evaluation metrics\n",
        "print(f\"Random forest Regression Metrics: MSE = {mse:.2f}, MAE = {mae:.2f}, R^2 = {r2:.2f}\")"
      ],
      "metadata": {
        "colab": {
          "base_uri": "https://localhost:8080/"
        },
        "outputId": "8c1fa3ce-9b09-4ee1-e112-d1227c5ad65b",
        "id": "idWj75xApE48"
      },
      "execution_count": null,
      "outputs": [
        {
          "output_type": "stream",
          "name": "stdout",
          "text": [
            "Random forest Regression Metrics: MSE = 2.12, MAE = 0.92, R^2 = 0.44\n"
          ]
        }
      ]
    },
    {
      "cell_type": "code",
      "source": [
        "xgb_reg.fit(X_train, y_train)\n",
        "\n",
        "# Make predictions on testing data\n",
        "y_pred = xgb_reg.predict(X_test)\n",
        "\n",
        "# Calculate evaluation metrics\n",
        "mse = mean_squared_error(y_test, y_pred)\n",
        "mae = mean_absolute_error(y_test, y_pred)\n",
        "r2 = r2_score(y_test, y_pred)\n",
        "\n",
        "# Print evaluation metrics\n",
        "print(f\"XGBoost Regression Metrics: MSE = {mse:.2f}, MAE = {mae:.2f}, R^2 = {r2:.2f}\")"
      ],
      "metadata": {
        "colab": {
          "base_uri": "https://localhost:8080/"
        },
        "id": "Zfh2Ic03RHCL",
        "outputId": "b9ca9d0d-e2b0-4bbd-bbf1-5e55b47b8352"
      },
      "execution_count": null,
      "outputs": [
        {
          "output_type": "stream",
          "name": "stdout",
          "text": [
            "XGBoost Regression Metrics: MSE = 2.76, MAE = 0.96, R^2 = 0.44\n"
          ]
        }
      ]
    },
    {
      "cell_type": "code",
      "source": [
        "\n",
        "lgbm_reg.fit(X_train, y_train)\n",
        "\n",
        "# Make predictions on testing data\n",
        "y_pred = lgbm_reg.predict(X_test)\n",
        "\n",
        "# Calculate evaluation metrics\n",
        "mse = mean_squared_error(y_test, y_pred)\n",
        "mae = mean_absolute_error(y_test, y_pred)\n",
        "r2 = r2_score(y_test, y_pred)\n",
        "\n",
        "# Print evaluation metrics\n",
        "print(f\"LGBM Regression Metrics: MSE = {mse:.2f}, MAE = {mae:.2f}, R^2 = {r2:.2f}\")"
      ],
      "metadata": {
        "colab": {
          "base_uri": "https://localhost:8080/"
        },
        "id": "fVktgzEGQWnW",
        "outputId": "22e11589-e7d1-41b6-e5ef-b58a3d7ee28e"
      },
      "execution_count": null,
      "outputs": [
        {
          "output_type": "stream",
          "name": "stdout",
          "text": [
            "LGBM Regression Metrics: MSE = 2.69, MAE = 0.93, R^2 = 0.45\n"
          ]
        }
      ]
    },
    {
      "cell_type": "code",
      "source": [
        "\n",
        "from sklearn.linear_model import Ridge\n",
        "ridge = Ridge()\n",
        "\n",
        "ridge.fit(X_train, y_train)\n",
        "\n",
        "# Make predictions on testing data\n",
        "y_pred = ridge.predict(X_test)\n",
        "\n",
        "# Calculate evaluation metrics\n",
        "mse = mean_squared_error(y_test, y_pred)\n",
        "mae = mean_absolute_error(y_test, y_pred)\n",
        "r2 = r2_score(y_test, y_pred)\n",
        "\n",
        "# Print evaluation metrics\n",
        "print(f\" Ridge Regression Metrics: MSE = {mse:.2f}, MAE = {mae:.2f}, R^2 = {r2:.2f}\")"
      ],
      "metadata": {
        "colab": {
          "base_uri": "https://localhost:8080/"
        },
        "id": "4spO90hqQD2N",
        "outputId": "df1fa830-595d-4439-94ac-c528d9c6c6b3"
      },
      "execution_count": null,
      "outputs": [
        {
          "output_type": "stream",
          "name": "stdout",
          "text": [
            " Ridge Regression Metrics: MSE = 2.73, MAE = 0.94, R^2 = 0.44\n"
          ]
        }
      ]
    },
    {
      "cell_type": "code",
      "source": [
        "from sklearn.ensemble import GradientBoostingRegressor\n",
        "gbr = GradientBoostingRegressor()\n",
        "gbr.fit(X_train, y_train)\n",
        "\n",
        "# Make predictions on testing data\n",
        "y_pred = gbr.predict(X_test)\n",
        "\n",
        "# Calculate evaluation metrics\n",
        "mse = mean_squared_error(y_test, y_pred)\n",
        "mae = mean_absolute_error(y_test, y_pred)\n",
        "r2 = r2_score(y_test, y_pred)\n",
        "\n",
        "# Print evaluation metrics\n",
        "print(f\" Gradient boosting  Regression Metrics: MSE = {mse:.2f}, MAE = {mae:.2f}, R^2 = {r2:.2f}\")"
      ],
      "metadata": {
        "colab": {
          "base_uri": "https://localhost:8080/"
        },
        "id": "JI4c-3HFRRJ_",
        "outputId": "20cb9dff-04d5-4c83-a237-fa3a491b4000"
      },
      "execution_count": null,
      "outputs": [
        {
          "output_type": "stream",
          "name": "stdout",
          "text": [
            " Gradient boosting  Regression Metrics: MSE = 2.70, MAE = 0.94, R^2 = 0.45\n"
          ]
        }
      ]
    },
    {
      "cell_type": "code",
      "source": [
        "from sklearn.neural_network import MLPRegressor\n",
        "mlp = MLPRegressor()\n",
        "mlp.fit(X_train, y_train)\n",
        "\n",
        "# Make predictions on testing data\n",
        "y_pred = mlp.predict(X_test)\n",
        "\n",
        "# Calculate evaluation metrics\n",
        "mse = mean_squared_error(y_test, y_pred)\n",
        "mae = mean_absolute_error(y_test, y_pred)\n",
        "r2 = r2_score(y_test, y_pred)\n",
        "\n",
        "# Print evaluation metrics\n",
        "print(f\" MLP  Regression Metrics: MSE = {mse:.2f}, MAE = {mae:.2f}, R^2 = {r2:.2f}\")\n"
      ],
      "metadata": {
        "colab": {
          "base_uri": "https://localhost:8080/"
        },
        "id": "NsxinUl1rgbp",
        "outputId": "0d79d039-9805-45da-bb1c-fdc9e2e1580a"
      },
      "execution_count": null,
      "outputs": [
        {
          "output_type": "stream",
          "name": "stdout",
          "text": [
            " MLP  Regression Metrics: MSE = 2.82, MAE = 0.98, R^2 = 0.43\n"
          ]
        },
        {
          "output_type": "stream",
          "name": "stderr",
          "text": [
            "/usr/local/lib/python3.10/dist-packages/sklearn/neural_network/_multilayer_perceptron.py:686: ConvergenceWarning: Stochastic Optimizer: Maximum iterations (200) reached and the optimization hasn't converged yet.\n",
            "  warnings.warn(\n"
          ]
        }
      ]
    },
    {
      "cell_type": "code",
      "source": [
        "from sklearn.ensemble import RandomForestRegressor\n",
        "from sklearn.model_selection import validation_curve\n",
        "import numpy as np\n",
        "\n",
        "# Define the hyperparameter values to test\n",
        "param_range = np.arange(1, 11)\n",
        "\n",
        "model1 = RandomForestRegressor()\n",
        "\n",
        "# Calculate the validation scores for each hyperparameter value\n",
        "train_scores, test_scores = validation_curve(\n",
        "    estimator=model1,\n",
        "    X=X_train,\n",
        "    y=y_train,\n",
        "    param_name='n_estimators',\n",
        "    param_range=param_range,\n",
        "    cv=5\n",
        ")\n",
        "\n",
        "# Calculate the mean and standard deviation of the training and test scores for each hyperparameter value\n",
        "train_mean = np.mean(train_scores, axis=1)\n",
        "train_std = np.std(train_scores, axis=1)\n",
        "test_mean = np.mean(test_scores, axis=1)\n",
        "test_std = np.std(test_scores, axis=1)\n",
        "\n",
        "# Plot the validation curve\n",
        "plt.plot(param_range, train_mean, label='Training score', color='blue')\n",
        "plt.fill_between(param_range, train_mean - train_std, train_mean + train_std, alpha=0.1, color='blue')\n",
        "plt.plot(param_range, test_mean, label='Cross-validation score', color='red')\n",
        "plt.fill_between(param_range, test_mean - test_std, test_mean + test_std, alpha=0.1, color='red')\n",
        "plt.xlabel('Number of trees')\n",
        "plt.ylabel('Score')\n",
        "plt.legend(loc='best')\n",
        "plt.show()\n"
      ],
      "metadata": {
        "colab": {
          "base_uri": "https://localhost:8080/",
          "height": 449
        },
        "id": "6TeGhvBfYmeu",
        "outputId": "feef76ee-de34-4879-e56f-a078ffe7bf0c"
      },
      "execution_count": null,
      "outputs": [
        {
          "output_type": "display_data",
          "data": {
            "text/plain": [
              "<Figure size 640x480 with 1 Axes>"
            ],
            "image/png": "[encoded data removed]"
          },
          "metadata": {}
        }
      ]
    },
    {
      "cell_type": "code",
      "source": [
        "from sklearn.model_selection import cross_val_score\n",
        "import numpy as np\n",
        "\n",
        "# Set the range of fold numbers to try\n",
        "n_folds = range(2, 11)\n",
        "# Create an empty list to store the mean cross-validation scores\n",
        "cv_scores = []\n",
        "# Loop over the range of fold numbers and calculate the mean cross-validation score for each\n",
        "for n in n_folds:\n",
        "    scores = cross_val_score(model1, X_train, y_train, cv=n)\n",
        "    mean_score = np.mean(scores)\n",
        "    cv_scores.append(mean_score)\n",
        "# Print the mean cross-validation scores for each fold number\n",
        "for n, score in zip(n_folds, cv_scores):\n",
        "    print(\"Fold: {}, Mean CV Score: {:.3f}\".format(n, score))\n"
      ],
      "metadata": {
        "colab": {
          "base_uri": "https://localhost:8080/"
        },
        "id": "wzHOtvR4b4Nt",
        "outputId": "02a6c543-fe3f-4af3-f2b0-12ba85b8754f"
      },
      "execution_count": null,
      "outputs": [
        {
          "output_type": "stream",
          "name": "stdout",
          "text": [
            "Fold: 2, Mean CV Score: 0.476\n",
            "Fold: 3, Mean CV Score: 0.477\n",
            "Fold: 4, Mean CV Score: 0.477\n",
            "Fold: 5, Mean CV Score: 0.479\n",
            "Fold: 6, Mean CV Score: 0.478\n",
            "Fold: 7, Mean CV Score: 0.479\n",
            "Fold: 8, Mean CV Score: 0.478\n",
            "Fold: 9, Mean CV Score: 0.478\n",
            "Fold: 10, Mean CV Score: 0.479\n"
          ]
        }
      ]
    },
    {
      "cell_type": "code",
      "source": [
        "#Fold: 8, Mean CV Score: 0.523 it has higher cv score\n"
      ],
      "metadata": {
        "id": "GHtSe8t0cPT0"
      },
      "execution_count": null,
      "outputs": []
    },
    {
      "cell_type": "code",
      "source": [
        "from sklearn.ensemble import RandomForestRegressor\n",
        "from sklearn.model_selection import cross_val_score, train_test_split\n",
        "\n",
        "\n",
        "\n",
        "# Perform K-fold cross-validation and get the scores\n",
        "scores = cross_val_score(model1, X_train, y_train, cv=5)\n",
        "\n",
        "# Print the scores for each fold\n",
        "print('Cross-validation scores:', scores)\n",
        "\n",
        "# Fit the classifier to the training data and test it on the testing data\n",
        "model1.fit(X_train, y_train)\n",
        "test_score = model1.score(X_test, y_test)\n",
        "print('Test score:', test_score)\n"
      ],
      "metadata": {
        "colab": {
          "base_uri": "https://localhost:8080/"
        },
        "id": "5Ydk3etKebPM",
        "outputId": "2481f316-f21c-41fe-8063-d0dee6226758"
      },
      "execution_count": null,
      "outputs": [
        {
          "output_type": "stream",
          "name": "stdout",
          "text": [
            "Cross-validation scores: [0.49248748 0.47760639 0.47100205 0.46443108 0.48889243]\n",
            "Test score: 0.4261247752036442\n"
          ]
        }
      ]
    },
    {
      "cell_type": "code",
      "source": [],
      "metadata": {
        "id": "-phuqJPNer4M"
      },
      "execution_count": null,
      "outputs": []
    }
  ]
}